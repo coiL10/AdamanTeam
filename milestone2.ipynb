{
 "cells": [
  {
   "cell_type": "markdown",
   "metadata": {},
   "source": [
    "## Milestone 2\n",
    "Dataset: Open Food Facts"
   ]
  },
  {
   "cell_type": "markdown",
   "metadata": {},
   "source": [
    "The dataset is downloaded and stored in the /data folder"
   ]
  },
  {
   "cell_type": "code",
   "execution_count": 2,
   "metadata": {},
   "outputs": [
    {
     "name": "stdout",
     "output_type": "stream",
     "text": [
      "Pretty printing has been turned ON\n"
     ]
    }
   ],
   "source": [
    "import pandas as pd\n",
    "import numpy as np\n",
    "import scipy as sp\n",
    "import seaborn as sns\n",
    "import matplotlib.pyplot as plt\n",
    "from geopy import distance\n",
    "from geopy import Nominatim\n",
    "sns.set()\n",
    "sns.set(rc={'figure.figsize':(15,10)})\n",
    "%pprint"
   ]
  },
  {
   "cell_type": "code",
   "execution_count": 3,
   "metadata": {},
   "outputs": [],
   "source": [
    "data_folder = './data/'"
   ]
  },
  {
   "cell_type": "markdown",
   "metadata": {},
   "source": [
    "# Data description"
   ]
  },
  {
   "cell_type": "markdown",
   "metadata": {},
   "source": [
    "For our project, we are going to use several datasets:\n",
    "- The [Open Food Facts](https://world.openfoodfacts.org/data) database\n",
    "- The Gross Domestic Product (GDP) per country on [World Bank](https://data.worldbank.org/indicator/ny.gdp.mktp.cd)\n",
    "- The Life Expectancy at birth per country on [World Bank](https://data.worldbank.org/indicator/SP.DYN.LE00.IN)"
   ]
  },
  {
   "cell_type": "markdown",
   "metadata": {},
   "source": [
    "## Open Food Facts dataset"
   ]
  },
  {
   "cell_type": "markdown",
   "metadata": {},
   "source": [
    "The data is in the CSV file format and can be downloaded on the Openfoodfacts website. Its size is 1.6 GB and we first decided for this milestone to download and load it using spark, as we were not sure if Pandas could handle a file of this size but as we quickly realized it was working smoothly so we will use Pandas to manipulate the data."
   ]
  },
  {
   "cell_type": "code",
   "execution_count": 4,
   "metadata": {},
   "outputs": [
    {
     "data": {
      "text/html": [
       "<div>\n",
       "<style scoped>\n",
       "    .dataframe tbody tr th:only-of-type {\n",
       "        vertical-align: middle;\n",
       "    }\n",
       "\n",
       "    .dataframe tbody tr th {\n",
       "        vertical-align: top;\n",
       "    }\n",
       "\n",
       "    .dataframe thead th {\n",
       "        text-align: right;\n",
       "    }\n",
       "</style>\n",
       "<table border=\"1\" class=\"dataframe\">\n",
       "  <thead>\n",
       "    <tr style=\"text-align: right;\">\n",
       "      <th></th>\n",
       "      <th>code</th>\n",
       "      <th>url</th>\n",
       "      <th>creator</th>\n",
       "      <th>created_t</th>\n",
       "      <th>created_datetime</th>\n",
       "      <th>last_modified_t</th>\n",
       "      <th>last_modified_datetime</th>\n",
       "      <th>product_name</th>\n",
       "      <th>generic_name</th>\n",
       "      <th>quantity</th>\n",
       "      <th>...</th>\n",
       "      <th>carbon-footprint_100g</th>\n",
       "      <th>nutrition-score-fr_100g</th>\n",
       "      <th>nutrition-score-uk_100g</th>\n",
       "      <th>glycemic-index_100g</th>\n",
       "      <th>water-hardness_100g</th>\n",
       "      <th>choline_100g</th>\n",
       "      <th>phylloquinone_100g</th>\n",
       "      <th>beta-glucan_100g</th>\n",
       "      <th>inositol_100g</th>\n",
       "      <th>carnitine_100g</th>\n",
       "    </tr>\n",
       "  </thead>\n",
       "  <tbody>\n",
       "    <tr>\n",
       "      <th>0</th>\n",
       "      <td>0000000000017</td>\n",
       "      <td>http://world-en.openfoodfacts.org/product/0000...</td>\n",
       "      <td>kiliweb</td>\n",
       "      <td>1529059080</td>\n",
       "      <td>2018-06-15T10:38:00Z</td>\n",
       "      <td>1529059204</td>\n",
       "      <td>2018-06-15T10:40:04Z</td>\n",
       "      <td>Vitória crackers</td>\n",
       "      <td>NaN</td>\n",
       "      <td>NaN</td>\n",
       "      <td>...</td>\n",
       "      <td>NaN</td>\n",
       "      <td>NaN</td>\n",
       "      <td>NaN</td>\n",
       "      <td>NaN</td>\n",
       "      <td>NaN</td>\n",
       "      <td>NaN</td>\n",
       "      <td>NaN</td>\n",
       "      <td>NaN</td>\n",
       "      <td>NaN</td>\n",
       "      <td>NaN</td>\n",
       "    </tr>\n",
       "    <tr>\n",
       "      <th>1</th>\n",
       "      <td>0000000000031</td>\n",
       "      <td>http://world-en.openfoodfacts.org/product/0000...</td>\n",
       "      <td>isagoofy</td>\n",
       "      <td>1539464774</td>\n",
       "      <td>2018-10-13T21:06:14Z</td>\n",
       "      <td>1539464817</td>\n",
       "      <td>2018-10-13T21:06:57Z</td>\n",
       "      <td>Cacao</td>\n",
       "      <td>NaN</td>\n",
       "      <td>130 g</td>\n",
       "      <td>...</td>\n",
       "      <td>NaN</td>\n",
       "      <td>NaN</td>\n",
       "      <td>NaN</td>\n",
       "      <td>NaN</td>\n",
       "      <td>NaN</td>\n",
       "      <td>NaN</td>\n",
       "      <td>NaN</td>\n",
       "      <td>NaN</td>\n",
       "      <td>NaN</td>\n",
       "      <td>NaN</td>\n",
       "    </tr>\n",
       "    <tr>\n",
       "      <th>2</th>\n",
       "      <td>0000000000123</td>\n",
       "      <td>http://world-en.openfoodfacts.org/product/0000...</td>\n",
       "      <td>kiliweb</td>\n",
       "      <td>1535737982</td>\n",
       "      <td>2018-08-31T17:53:02Z</td>\n",
       "      <td>1535737986</td>\n",
       "      <td>2018-08-31T17:53:06Z</td>\n",
       "      <td>Sauce Sweety chili 0%</td>\n",
       "      <td>NaN</td>\n",
       "      <td>NaN</td>\n",
       "      <td>...</td>\n",
       "      <td>NaN</td>\n",
       "      <td>NaN</td>\n",
       "      <td>NaN</td>\n",
       "      <td>NaN</td>\n",
       "      <td>NaN</td>\n",
       "      <td>NaN</td>\n",
       "      <td>NaN</td>\n",
       "      <td>NaN</td>\n",
       "      <td>NaN</td>\n",
       "      <td>NaN</td>\n",
       "    </tr>\n",
       "    <tr>\n",
       "      <th>3</th>\n",
       "      <td>0000000000178</td>\n",
       "      <td>http://world-en.openfoodfacts.org/product/0000...</td>\n",
       "      <td>kiliweb</td>\n",
       "      <td>1542456332</td>\n",
       "      <td>2018-11-17T12:05:32Z</td>\n",
       "      <td>1542456333</td>\n",
       "      <td>2018-11-17T12:05:33Z</td>\n",
       "      <td>Mini coco</td>\n",
       "      <td>NaN</td>\n",
       "      <td>NaN</td>\n",
       "      <td>...</td>\n",
       "      <td>NaN</td>\n",
       "      <td>NaN</td>\n",
       "      <td>NaN</td>\n",
       "      <td>NaN</td>\n",
       "      <td>NaN</td>\n",
       "      <td>NaN</td>\n",
       "      <td>NaN</td>\n",
       "      <td>NaN</td>\n",
       "      <td>NaN</td>\n",
       "      <td>NaN</td>\n",
       "    </tr>\n",
       "    <tr>\n",
       "      <th>4</th>\n",
       "      <td>0000000000291</td>\n",
       "      <td>http://world-en.openfoodfacts.org/product/0000...</td>\n",
       "      <td>kiliweb</td>\n",
       "      <td>1534239669</td>\n",
       "      <td>2018-08-14T09:41:09Z</td>\n",
       "      <td>1534239732</td>\n",
       "      <td>2018-08-14T09:42:12Z</td>\n",
       "      <td>Mendiants</td>\n",
       "      <td>NaN</td>\n",
       "      <td>NaN</td>\n",
       "      <td>...</td>\n",
       "      <td>NaN</td>\n",
       "      <td>NaN</td>\n",
       "      <td>NaN</td>\n",
       "      <td>NaN</td>\n",
       "      <td>NaN</td>\n",
       "      <td>NaN</td>\n",
       "      <td>NaN</td>\n",
       "      <td>NaN</td>\n",
       "      <td>NaN</td>\n",
       "      <td>NaN</td>\n",
       "    </tr>\n",
       "  </tbody>\n",
       "</table>\n",
       "<p>5 rows × 173 columns</p>\n",
       "</div>"
      ],
      "text/plain": [
       "            code                                                url   creator  \\\n",
       "0  0000000000017  http://world-en.openfoodfacts.org/product/0000...   kiliweb   \n",
       "1  0000000000031  http://world-en.openfoodfacts.org/product/0000...  isagoofy   \n",
       "2  0000000000123  http://world-en.openfoodfacts.org/product/0000...   kiliweb   \n",
       "3  0000000000178  http://world-en.openfoodfacts.org/product/0000...   kiliweb   \n",
       "4  0000000000291  http://world-en.openfoodfacts.org/product/0000...   kiliweb   \n",
       "\n",
       "    created_t      created_datetime last_modified_t last_modified_datetime  \\\n",
       "0  1529059080  2018-06-15T10:38:00Z      1529059204   2018-06-15T10:40:04Z   \n",
       "1  1539464774  2018-10-13T21:06:14Z      1539464817   2018-10-13T21:06:57Z   \n",
       "2  1535737982  2018-08-31T17:53:02Z      1535737986   2018-08-31T17:53:06Z   \n",
       "3  1542456332  2018-11-17T12:05:32Z      1542456333   2018-11-17T12:05:33Z   \n",
       "4  1534239669  2018-08-14T09:41:09Z      1534239732   2018-08-14T09:42:12Z   \n",
       "\n",
       "            product_name generic_name quantity      ...        \\\n",
       "0       Vitória crackers          NaN      NaN      ...         \n",
       "1                  Cacao          NaN    130 g      ...         \n",
       "2  Sauce Sweety chili 0%          NaN      NaN      ...         \n",
       "3              Mini coco          NaN      NaN      ...         \n",
       "4              Mendiants          NaN      NaN      ...         \n",
       "\n",
       "  carbon-footprint_100g nutrition-score-fr_100g nutrition-score-uk_100g  \\\n",
       "0                   NaN                     NaN                     NaN   \n",
       "1                   NaN                     NaN                     NaN   \n",
       "2                   NaN                     NaN                     NaN   \n",
       "3                   NaN                     NaN                     NaN   \n",
       "4                   NaN                     NaN                     NaN   \n",
       "\n",
       "  glycemic-index_100g water-hardness_100g choline_100g phylloquinone_100g  \\\n",
       "0                 NaN                 NaN          NaN                NaN   \n",
       "1                 NaN                 NaN          NaN                NaN   \n",
       "2                 NaN                 NaN          NaN                NaN   \n",
       "3                 NaN                 NaN          NaN                NaN   \n",
       "4                 NaN                 NaN          NaN                NaN   \n",
       "\n",
       "  beta-glucan_100g inositol_100g carnitine_100g  \n",
       "0              NaN           NaN            NaN  \n",
       "1              NaN           NaN            NaN  \n",
       "2              NaN           NaN            NaN  \n",
       "3              NaN           NaN            NaN  \n",
       "4              NaN           NaN            NaN  \n",
       "\n",
       "[5 rows x 173 columns]"
      ]
     },
     "execution_count": 4,
     "metadata": {},
     "output_type": "execute_result"
    }
   ],
   "source": [
    "data = pd.read_csv(data_folder + 'en.openfoodfacts.org.products.csv', sep='\\t', encoding='utf-8', low_memory=False)\n",
    "data.head()"
   ]
  },
  {
   "cell_type": "markdown",
   "metadata": {},
   "source": [
    "We see that we have a lot of columns (173), not all of them will be useful for our project so we will select the most interesting ones and drop all the others to avoid keeping unused data for computations. We first chose to remove the columns related to subjects not related to our project for better readability like ingredients concentration per product, images, related to palm_oil..."
   ]
  },
  {
   "cell_type": "code",
   "execution_count": 5,
   "metadata": {},
   "outputs": [
    {
     "data": {
      "text/plain": [
       "['creator',\n",
       " 'created_t',\n",
       " 'created_datetime',\n",
       " 'last_modified_t',\n",
       " 'last_modified_datetime',\n",
       " 'product_name',\n",
       " 'generic_name',\n",
       " 'quantity',\n",
       " 'packaging',\n",
       " 'packaging_tags',\n",
       " 'brands',\n",
       " 'brands_tags',\n",
       " 'categories',\n",
       " 'categories_tags',\n",
       " 'categories_en',\n",
       " 'origins',\n",
       " 'origins_tags',\n",
       " 'manufacturing_places',\n",
       " 'manufacturing_places_tags',\n",
       " 'labels',\n",
       " 'labels_tags',\n",
       " 'labels_en',\n",
       " 'cities',\n",
       " 'cities_tags',\n",
       " 'purchase_places',\n",
       " 'stores',\n",
       " 'countries',\n",
       " 'countries_tags',\n",
       " 'countries_en',\n",
       " 'ingredients_text',\n",
       " 'allergens',\n",
       " 'allergens_en',\n",
       " 'traces',\n",
       " 'traces_tags',\n",
       " 'traces_en',\n",
       " 'serving_size',\n",
       " 'serving_quantity',\n",
       " 'no_nutriments',\n",
       " 'additives_n',\n",
       " 'additives',\n",
       " 'additives_tags',\n",
       " 'additives_en',\n",
       " 'nutrition_grade_uk',\n",
       " 'nutrition_grade_fr',\n",
       " 'pnns_groups_1',\n",
       " 'pnns_groups_2',\n",
       " 'states',\n",
       " 'states_tags',\n",
       " 'states_en',\n",
       " 'main_category',\n",
       " 'main_category_en']"
      ]
     },
     "execution_count": 5,
     "metadata": {},
     "output_type": "execute_result"
    }
   ],
   "source": [
    "not_related = ['100g', 'image', 'palm_oil', 'code', 'url']\n",
    "columns = [column for column in list(data.columns) if not any(st in column for st in not_related)] \n",
    "columns"
   ]
  },
  {
   "cell_type": "markdown",
   "metadata": {},
   "source": [
    "From the remainings columns we chose the ones that interests us the most. We made our choice first by judging the usefulness of each column in relation to our project and then by regarding in more details if the data in the column was usable."
   ]
  },
  {
   "cell_type": "code",
   "execution_count": 6,
   "metadata": {},
   "outputs": [
    {
     "data": {
      "text/plain": [
       "product_name                 object\n",
       "categories_tags              object\n",
       "categories_en                object\n",
       "origins_tags                 object\n",
       "manufacturing_places_tags    object\n",
       "labels                       object\n",
       "countries_en                 object\n",
       "allergens                    object\n",
       "nutrition_grade_fr           object\n",
       "main_category_en             object\n",
       "pnns_groups_1                object\n",
       "pnns_groups_2                object\n",
       "dtype: object"
      ]
     },
     "execution_count": 6,
     "metadata": {},
     "output_type": "execute_result"
    }
   ],
   "source": [
    "keep = ['product_name','categories_tags','categories_en','origins_tags','manufacturing_places_tags','labels','countries_en','allergens','nutrition_grade_fr','main_category_en', 'pnns_groups_1', 'pnns_groups_2']\n",
    "selected_data = data[keep]\n",
    "selected_data.dtypes"
   ]
  },
  {
   "cell_type": "markdown",
   "metadata": {},
   "source": [
    "The following columns are kept:"
   ]
  },
  {
   "cell_type": "markdown",
   "metadata": {},
   "source": [
    "- product_name: name of the product\n",
    "- categories_tags: categories of the product in 'tag' format\n",
    "- categories_en: categories (in english)\n",
    "- origins_tags: origins of ingredients in 'tag' format\n",
    "- manufacturing_places_tags: place of manufacture of the product\n",
    "- labels: label of the product(e.g. Bio..)\n",
    "- countries_en: name of the countries in english where the product is sold\n",
    "- allergens: allergens contained in the product\n",
    "- nutrition_grade_fr: nutrition score given by Open Food Facts of the product\n",
    "- main_category_en: main category of the product in english\n",
    "- pnns_groups_1: category of te product according to the \"Programme national nutrition santé\" (pnns)\n",
    "- pnns_groups_2: same"
   ]
  },
  {
   "cell_type": "markdown",
   "metadata": {},
   "source": [
    "(tag format is the value in all lower caps, without accents and with - instead of spaces)"
   ]
  },
  {
   "cell_type": "code",
   "execution_count": 7,
   "metadata": {},
   "outputs": [
    {
     "data": {
      "text/html": [
       "<div>\n",
       "<style scoped>\n",
       "    .dataframe tbody tr th:only-of-type {\n",
       "        vertical-align: middle;\n",
       "    }\n",
       "\n",
       "    .dataframe tbody tr th {\n",
       "        vertical-align: top;\n",
       "    }\n",
       "\n",
       "    .dataframe thead th {\n",
       "        text-align: right;\n",
       "    }\n",
       "</style>\n",
       "<table border=\"1\" class=\"dataframe\">\n",
       "  <thead>\n",
       "    <tr style=\"text-align: right;\">\n",
       "      <th></th>\n",
       "      <th>product_name</th>\n",
       "      <th>categories_tags</th>\n",
       "      <th>categories_en</th>\n",
       "      <th>origins_tags</th>\n",
       "      <th>manufacturing_places_tags</th>\n",
       "      <th>labels</th>\n",
       "      <th>countries_en</th>\n",
       "      <th>allergens</th>\n",
       "      <th>nutrition_grade_fr</th>\n",
       "      <th>main_category_en</th>\n",
       "      <th>pnns_groups_1</th>\n",
       "      <th>pnns_groups_2</th>\n",
       "    </tr>\n",
       "  </thead>\n",
       "  <tbody>\n",
       "    <tr>\n",
       "      <th>1065</th>\n",
       "      <td>Cornish Cruncher Cheddar &amp; Pickled Onion Hand ...</td>\n",
       "      <td>en:plant-based-foods-and-beverages,en:plant-ba...</td>\n",
       "      <td>Plant-based foods and beverages,Plant-based fo...</td>\n",
       "      <td>royaume-uni</td>\n",
       "      <td>royaume-uni</td>\n",
       "      <td>Point Vert</td>\n",
       "      <td>France,United Kingdom</td>\n",
       "      <td>Lait, Lait, Babeurre</td>\n",
       "      <td>c</td>\n",
       "      <td>Plant-based foods and beverages</td>\n",
       "      <td>Salty snacks</td>\n",
       "      <td>Appetizers</td>\n",
       "    </tr>\n",
       "    <tr>\n",
       "      <th>1142</th>\n",
       "      <td>6 Breaded Jumbo Tiger Prawns</td>\n",
       "      <td>en:meals,en:refrigerated-foods,en:breaded-prod...</td>\n",
       "      <td>Meals,Refrigerated foods,Breaded products,Refr...</td>\n",
       "      <td>vietnam</td>\n",
       "      <td>vietnam</td>\n",
       "      <td>Point Vert,Décongelé</td>\n",
       "      <td>France,United Kingdom</td>\n",
       "      <td>Crevettes, Crustacés, blé, Gluten</td>\n",
       "      <td>c</td>\n",
       "      <td>Meals</td>\n",
       "      <td>Composite foods</td>\n",
       "      <td>One-dish meals</td>\n",
       "    </tr>\n",
       "    <tr>\n",
       "      <th>1347</th>\n",
       "      <td>grilled Cajun chicken breast, spicy wedges &amp; s...</td>\n",
       "      <td>en:meals,en:meat-based-products,en:meals-with-...</td>\n",
       "      <td>Meals,Meat-based products,Meals with meat,Poul...</td>\n",
       "      <td>europe,royaume-uni</td>\n",
       "      <td>royaume-uni</td>\n",
       "      <td>Peu ou pas de matière grasse,Peu de matière gr...</td>\n",
       "      <td>France,United Kingdom</td>\n",
       "      <td>Lait</td>\n",
       "      <td>a</td>\n",
       "      <td>Meals</td>\n",
       "      <td>Composite foods</td>\n",
       "      <td>One-dish meals</td>\n",
       "    </tr>\n",
       "    <tr>\n",
       "      <th>1354</th>\n",
       "      <td>Cornish Cove Cheddar</td>\n",
       "      <td>en:dairies,en:fermented-foods,en:fermented-mil...</td>\n",
       "      <td>Dairies,Fermented foods,Fermented milk product...</td>\n",
       "      <td>royaume-uni</td>\n",
       "      <td>royaume-uni</td>\n",
       "      <td>Point Vert</td>\n",
       "      <td>France</td>\n",
       "      <td>Lait</td>\n",
       "      <td>d</td>\n",
       "      <td>Dairies</td>\n",
       "      <td>Milk and dairy products</td>\n",
       "      <td>Cheese</td>\n",
       "    </tr>\n",
       "    <tr>\n",
       "      <th>1392</th>\n",
       "      <td>Mild Cheddar with Onions &amp; Chives</td>\n",
       "      <td>en:dairies,en:fermented-foods,en:fermented-mil...</td>\n",
       "      <td>Dairies,Fermented foods,Fermented milk product...</td>\n",
       "      <td>royaume-uni</td>\n",
       "      <td>royaume-uni,irelande</td>\n",
       "      <td>Point Vert</td>\n",
       "      <td>France,United Kingdom</td>\n",
       "      <td>Fromage, Lait</td>\n",
       "      <td>d</td>\n",
       "      <td>Dairies</td>\n",
       "      <td>Milk and dairy products</td>\n",
       "      <td>Cheese</td>\n",
       "    </tr>\n",
       "  </tbody>\n",
       "</table>\n",
       "</div>"
      ],
      "text/plain": [
       "                                           product_name  \\\n",
       "1065  Cornish Cruncher Cheddar & Pickled Onion Hand ...   \n",
       "1142                       6 Breaded Jumbo Tiger Prawns   \n",
       "1347  grilled Cajun chicken breast, spicy wedges & s...   \n",
       "1354                               Cornish Cove Cheddar   \n",
       "1392                  Mild Cheddar with Onions & Chives   \n",
       "\n",
       "                                        categories_tags  \\\n",
       "1065  en:plant-based-foods-and-beverages,en:plant-ba...   \n",
       "1142  en:meals,en:refrigerated-foods,en:breaded-prod...   \n",
       "1347  en:meals,en:meat-based-products,en:meals-with-...   \n",
       "1354  en:dairies,en:fermented-foods,en:fermented-mil...   \n",
       "1392  en:dairies,en:fermented-foods,en:fermented-mil...   \n",
       "\n",
       "                                          categories_en        origins_tags  \\\n",
       "1065  Plant-based foods and beverages,Plant-based fo...         royaume-uni   \n",
       "1142  Meals,Refrigerated foods,Breaded products,Refr...             vietnam   \n",
       "1347  Meals,Meat-based products,Meals with meat,Poul...  europe,royaume-uni   \n",
       "1354  Dairies,Fermented foods,Fermented milk product...         royaume-uni   \n",
       "1392  Dairies,Fermented foods,Fermented milk product...         royaume-uni   \n",
       "\n",
       "     manufacturing_places_tags  \\\n",
       "1065               royaume-uni   \n",
       "1142                   vietnam   \n",
       "1347               royaume-uni   \n",
       "1354               royaume-uni   \n",
       "1392      royaume-uni,irelande   \n",
       "\n",
       "                                                 labels  \\\n",
       "1065                                         Point Vert   \n",
       "1142                               Point Vert,Décongelé   \n",
       "1347  Peu ou pas de matière grasse,Peu de matière gr...   \n",
       "1354                                         Point Vert   \n",
       "1392                                         Point Vert   \n",
       "\n",
       "               countries_en                          allergens  \\\n",
       "1065  France,United Kingdom               Lait, Lait, Babeurre   \n",
       "1142  France,United Kingdom  Crevettes, Crustacés, blé, Gluten   \n",
       "1347  France,United Kingdom                               Lait   \n",
       "1354                 France                               Lait   \n",
       "1392  France,United Kingdom                      Fromage, Lait   \n",
       "\n",
       "     nutrition_grade_fr                 main_category_en  \\\n",
       "1065                  c  Plant-based foods and beverages   \n",
       "1142                  c                            Meals   \n",
       "1347                  a                            Meals   \n",
       "1354                  d                          Dairies   \n",
       "1392                  d                          Dairies   \n",
       "\n",
       "                pnns_groups_1   pnns_groups_2  \n",
       "1065             Salty snacks      Appetizers  \n",
       "1142          Composite foods  One-dish meals  \n",
       "1347          Composite foods  One-dish meals  \n",
       "1354  Milk and dairy products          Cheese  \n",
       "1392  Milk and dairy products          Cheese  "
      ]
     },
     "execution_count": 7,
     "metadata": {},
     "output_type": "execute_result"
    }
   ],
   "source": [
    "selected_data.dropna().head()"
   ]
  },
  {
   "cell_type": "markdown",
   "metadata": {},
   "source": [
    "We save this dataframe in a csv file to speed up the loading process in our next runs."
   ]
  },
  {
   "cell_type": "code",
   "execution_count": 8,
   "metadata": {},
   "outputs": [],
   "source": [
    "selected_data.to_csv(data_folder + 'selected_data.csv')"
   ]
  },
  {
   "cell_type": "markdown",
   "metadata": {},
   "source": [
    "Since there seems to be a lot of null values in the dataset, it can be interesting to take a look at the number of values that we have per remaining selected column."
   ]
  },
  {
   "cell_type": "code",
   "execution_count": 9,
   "metadata": {},
   "outputs": [
    {
     "data": {
      "text/plain": [
       "product_name                 671470\n",
       "categories_tags              179971\n",
       "categories_en                179937\n",
       "origins_tags                  42429\n",
       "manufacturing_places_tags     67336\n",
       "labels                       102161\n",
       "countries_en                 696976\n",
       "allergens                     69069\n",
       "nutrition_grade_fr           141083\n",
       "main_category_en             179860\n",
       "pnns_groups_1                257347\n",
       "pnns_groups_2                263288\n",
       "dtype: int64"
      ]
     },
     "execution_count": 9,
     "metadata": {},
     "output_type": "execute_result"
    }
   ],
   "source": [
    "selected_data.count()"
   ]
  },
  {
   "cell_type": "markdown",
   "metadata": {},
   "source": [
    "We can also represent the filling of the columns as percentages to better visualize it :"
   ]
  },
  {
   "cell_type": "code",
   "execution_count": 10,
   "metadata": {},
   "outputs": [
    {
     "data": {
      "text/plain": [
       "product_name                  96.340477\n",
       "categories_tags               25.821693\n",
       "categories_en                 25.816814\n",
       "origins_tags                   6.087584\n",
       "manufacturing_places_tags      9.661165\n",
       "labels                        14.657750\n",
       "countries_en                 100.000000\n",
       "allergens                      9.909810\n",
       "nutrition_grade_fr            20.242160\n",
       "main_category_en              25.805767\n",
       "pnns_groups_1                 36.923366\n",
       "pnns_groups_2                 37.775763\n",
       "dtype: float64"
      ]
     },
     "execution_count": 10,
     "metadata": {},
     "output_type": "execute_result"
    }
   ],
   "source": [
    "selected_data.count() / max(selected_data.count()) * 100"
   ]
  },
  {
   "cell_type": "markdown",
   "metadata": {},
   "source": [
    "For this dataset, the most important tags are the followings:`countries_en`, `origin`, `manufacturing_places` and `nutrition_grade_fr`"
   ]
  },
  {
   "cell_type": "markdown",
   "metadata": {},
   "source": [
    "### `countries_en`"
   ]
  },
  {
   "cell_type": "markdown",
   "metadata": {},
   "source": [
    "This column contains the names of the countries where the product is sold, separated by a comma. Without cleaning (this will be later on), the distribution of the values are as follows: "
   ]
  },
  {
   "cell_type": "code",
   "execution_count": 11,
   "metadata": {},
   "outputs": [],
   "source": [
    "def print_dis(column):\n",
    "    counts = column.value_counts()\n",
    "    counts = counts[:30,]\n",
    "    sns.barplot(y=counts.index, x=counts.values, alpha=0.8)"
   ]
  },
  {
   "cell_type": "code",
   "execution_count": 12,
   "metadata": {},
   "outputs": [
    {
     "data": {
      "text/plain": [
       "array(['France', 'United States', 'Ireland', 'United Kingdom',\n",
       "       'France,United States', 'Canada', 'Switzerland', 'Peru', 'Oman',\n",
       "       'Spain', 'Germany', 'Slovenia', 'Qatar', 'France,Germany', 'Italy',\n",
       "       'Romania', 'Australia', 'Portugal', 'Israel',\n",
       "       'France,United Kingdom',\n",
       "       'Belgium,France,Netherlands,United Kingdom', 'Guadeloupe',\n",
       "       'Belgium', 'Mexico', 'United Kingdom,United States',\n",
       "       'Dominican Republic', 'Canada,United States', 'Netherlands',\n",
       "       'Australia,France', 'Sweden', 'Canada,Switzerland,United States',\n",
       "       'Luxembourg', 'Egypt', 'Canada,France', 'Palestinian territories',\n",
       "       'Haiti', 'Mexico,United States', nan, 'France,Réunion', 'Taiwan',\n",
       "       'Australia,Belgium,France,Switzerland', 'Brazil', 'France,Spain',\n",
       "       'Belgium,France', 'France,En', 'France,Switzerland', 'Guatemala',\n",
       "       'Australia,France,New Zealand', 'Australia,United States',\n",
       "       'Saudi Arabia'], dtype=object)"
      ]
     },
     "execution_count": 12,
     "metadata": {},
     "output_type": "execute_result"
    }
   ],
   "source": [
    "selected_data.countries_en.unique()[:50]"
   ]
  },
  {
   "cell_type": "markdown",
   "metadata": {},
   "source": [
    "The values are pretty clean, with a few exceptions (fr:XX..) that we decided to drop later. As for the distribution, for now, it looks as follows:"
   ]
  },
  {
   "cell_type": "code",
   "execution_count": 13,
   "metadata": {},
   "outputs": [
    {
     "data": {
      "image/png": "[encoded data removed]",
      "text/plain": [
       "<Figure size 1080x720 with 1 Axes>"
      ]
     },
     "metadata": {},
     "output_type": "display_data"
    }
   ],
   "source": [
    "print_dis(selected_data.countries_en)"
   ]
  },
  {
   "cell_type": "markdown",
   "metadata": {},
   "source": [
    "Here, we are facing our first problem, while the countries have more than enough samples in it (we still need to check the distribution later on), the `origins` and `manufacturing_places` both represent less than 10% of the data. Now, if we check at the actual values of them:"
   ]
  },
  {
   "cell_type": "markdown",
   "metadata": {},
   "source": [
    "### `manufacturing_places_tags`"
   ]
  },
  {
   "cell_type": "code",
   "execution_count": 14,
   "metadata": {},
   "outputs": [
    {
     "data": {
      "text/plain": [
       "array([nan, 'france', 'brossard-quebec', 'united-kingdom',\n",
       "       'brossard,quebec', 'etats-unis', 'france,avranches',\n",
       "       'brossars,quebec', 'thailand', 'belgien', 'net-wt',\n",
       "       'las-ventas-de-retamosa,toledo-provincia,castilla-la-mancha,espana',\n",
       "       'saint-yrieix,france', 'germany',\n",
       "       'france,limousin,87500,saint-yrieux', 'france,87500',\n",
       "       '87500,france', 'sarlat', 'pays-bas,netherlands', 'royaume-uni',\n",
       "       'royaume-uni,ecosse', 'belgique', 'ireland', '87500-saint-yrieix',\n",
       "       'ecosse,royaume-uni', 'black-sheep-brewery',\n",
       "       'estados-unidos-americanos', 'vietnam', 'argentine', 'usa',\n",
       "       '30800-st-gilles', 'chester,united-kingdom', 'uk',\n",
       "       'royaume-uni,irelande', 'california,usa', 'italie', 'china',\n",
       "       'angleterre', 'switzerland', 'canada', 'mexico',\n",
       "       'the-hershey-company', 'cincinnati', 'united-states', 'taiwan',\n",
       "       'japon', 'japan', 'topco', 'san-nicolas-de-los-garza,nuevo-leon',\n",
       "       'san-francisco-california'], dtype=object)"
      ]
     },
     "execution_count": 14,
     "metadata": {},
     "output_type": "execute_result"
    }
   ],
   "source": [
    "selected_data.manufacturing_places_tags.unique()[:50]"
   ]
  },
  {
   "cell_type": "markdown",
   "metadata": {},
   "source": [
    "As we can see, the values are a bit messy and not uniform at all. Now if we look at the counts of value and its distribution:"
   ]
  },
  {
   "cell_type": "code",
   "execution_count": 15,
   "metadata": {
    "scrolled": false
   },
   "outputs": [
    {
     "data": {
      "image/png": "[encoded data removed]",
      "text/plain": [
       "<Figure size 1080x720 with 1 Axes>"
      ]
     },
     "metadata": {},
     "output_type": "display_data"
    }
   ],
   "source": [
    "print_dis(selected_data.manufacturing_places_tags)"
   ]
  },
  {
   "cell_type": "markdown",
   "metadata": {},
   "source": [
    "First of all, some values requires some cleaning, but we can still see the main problem: the values are dominated by the value \"France\", which makes our data very biased."
   ]
  },
  {
   "cell_type": "markdown",
   "metadata": {},
   "source": [
    "### `origins_tags`"
   ]
  },
  {
   "cell_type": "markdown",
   "metadata": {},
   "source": [
    "Let's do the same for the origins:"
   ]
  },
  {
   "cell_type": "code",
   "execution_count": 16,
   "metadata": {},
   "outputs": [
    {
     "data": {
      "text/plain": [
       "array([nan, 'france', 'quebec', 'quebec,canada', 'united-kingdom',\n",
       "       'germany', 'ue', 'canada', 'grande-bretagne',\n",
       "       'estados-unidos-americanos', 'royaume-uni', 'vietnam', 'argentine',\n",
       "       'brazil', 'england', 'europe,royaume-uni',\n",
       "       'easter-grangemuir-farm,pittenweem,fife,ky10-2rb,scotland,united-kingdom',\n",
       "       'royaume-uni,hors-royaume-uni', 'perou', 'italie', 'tibet',\n",
       "       'espagne,royaume-uni', 'united-states', 'madagascar', 'mexico',\n",
       "       'taiwan', 'japon', 'usa', 'estados-unidos', 'california', 'estero',\n",
       "       'atlantique-nord-ouest,canada', 'suisse', 'saudi',\n",
       "       'estados-unidos-de-america', 'britain,british-chicken', 'italy',\n",
       "       'francia', 'fougerolles,france', 'ancaster,ontario,canada',\n",
       "       'scotland', 'royaume-uni,west-sussex', 'malaisie',\n",
       "       'washington,usa', 'e-u-a', 'etats-unis', 'californie,etats-unis',\n",
       "       'new-zealand', 'sicile,italie', 'indetermine'], dtype=object)"
      ]
     },
     "execution_count": 16,
     "metadata": {},
     "output_type": "execute_result"
    }
   ],
   "source": [
    "selected_data.origins_tags.unique()[:50]"
   ]
  },
  {
   "cell_type": "code",
   "execution_count": 17,
   "metadata": {},
   "outputs": [
    {
     "data": {
      "image/png": "[encoded data removed]",
      "text/plain": [
       "<Figure size 1080x720 with 1 Axes>"
      ]
     },
     "metadata": {},
     "output_type": "display_data"
    }
   ],
   "source": [
    "print_dis(selected_data.origins_tags)"
   ]
  },
  {
   "cell_type": "markdown",
   "metadata": {},
   "source": [
    "We encounter here the same problem. Our origins and manufacturing places are heavily biased because of an overwhelming number of food originating from France."
   ]
  },
  {
   "cell_type": "code",
   "execution_count": 18,
   "metadata": {},
   "outputs": [
    {
     "data": {
      "text/plain": [
       "571"
      ]
     },
     "execution_count": 18,
     "metadata": {},
     "output_type": "execute_result"
    }
   ],
   "source": [
    "a = selected_data['origins_tags'].dropna(how='all').str.lower()\n",
    "a[a.str.contains('suisse')].count()"
   ]
  },
  {
   "cell_type": "code",
   "execution_count": 19,
   "metadata": {},
   "outputs": [
    {
     "data": {
      "text/plain": [
       "16583"
      ]
     },
     "execution_count": 19,
     "metadata": {},
     "output_type": "execute_result"
    }
   ],
   "source": [
    "a = selected_data['origins_tags'].dropna(how='all').str.lower()\n",
    "a[a.str.contains('france')].count()"
   ]
  },
  {
   "cell_type": "markdown",
   "metadata": {},
   "source": [
    "We are now facing another problem, all the tags are not normalized and a lot of them are even invalid (\"mer\", postal code, or in other languages). "
   ]
  },
  {
   "cell_type": "markdown",
   "metadata": {},
   "source": [
    "### `nutrition_score_fr`"
   ]
  },
  {
   "cell_type": "code",
   "execution_count": 20,
   "metadata": {},
   "outputs": [
    {
     "data": {
      "image/png": "[encoded data removed]",
      "text/plain": [
       "<Figure size 1080x720 with 1 Axes>"
      ]
     },
     "metadata": {},
     "output_type": "display_data"
    }
   ],
   "source": [
    "print_dis(selected_data.dropna().nutrition_grade_fr)"
   ]
  },
  {
   "cell_type": "markdown",
   "metadata": {},
   "source": [
    "We replace the letters used to grade the nutrition score by integers to be able to quantify the mean average score. The higher the note, the better the nutrition score is."
   ]
  },
  {
   "cell_type": "code",
   "execution_count": 21,
   "metadata": {
    "scrolled": true
   },
   "outputs": [
    {
     "data": {
      "text/html": [
       "<div>\n",
       "<style scoped>\n",
       "    .dataframe tbody tr th:only-of-type {\n",
       "        vertical-align: middle;\n",
       "    }\n",
       "\n",
       "    .dataframe tbody tr th {\n",
       "        vertical-align: top;\n",
       "    }\n",
       "\n",
       "    .dataframe thead th {\n",
       "        text-align: right;\n",
       "    }\n",
       "</style>\n",
       "<table border=\"1\" class=\"dataframe\">\n",
       "  <thead>\n",
       "    <tr style=\"text-align: right;\">\n",
       "      <th></th>\n",
       "      <th>product_name</th>\n",
       "      <th>categories_tags</th>\n",
       "      <th>categories_en</th>\n",
       "      <th>origins_tags</th>\n",
       "      <th>manufacturing_places_tags</th>\n",
       "      <th>labels</th>\n",
       "      <th>countries_en</th>\n",
       "      <th>allergens</th>\n",
       "      <th>nutrition_grade_fr</th>\n",
       "      <th>main_category_en</th>\n",
       "      <th>pnns_groups_1</th>\n",
       "      <th>pnns_groups_2</th>\n",
       "    </tr>\n",
       "  </thead>\n",
       "  <tbody>\n",
       "    <tr>\n",
       "      <th>1065</th>\n",
       "      <td>Cornish Cruncher Cheddar &amp; Pickled Onion Hand ...</td>\n",
       "      <td>en:plant-based-foods-and-beverages,en:plant-ba...</td>\n",
       "      <td>Plant-based foods and beverages,Plant-based fo...</td>\n",
       "      <td>royaume-uni</td>\n",
       "      <td>royaume-uni</td>\n",
       "      <td>Point Vert</td>\n",
       "      <td>France,United Kingdom</td>\n",
       "      <td>Lait, Lait, Babeurre</td>\n",
       "      <td>3</td>\n",
       "      <td>Plant-based foods and beverages</td>\n",
       "      <td>Salty snacks</td>\n",
       "      <td>Appetizers</td>\n",
       "    </tr>\n",
       "    <tr>\n",
       "      <th>1142</th>\n",
       "      <td>6 Breaded Jumbo Tiger Prawns</td>\n",
       "      <td>en:meals,en:refrigerated-foods,en:breaded-prod...</td>\n",
       "      <td>Meals,Refrigerated foods,Breaded products,Refr...</td>\n",
       "      <td>vietnam</td>\n",
       "      <td>vietnam</td>\n",
       "      <td>Point Vert,Décongelé</td>\n",
       "      <td>France,United Kingdom</td>\n",
       "      <td>Crevettes, Crustacés, blé, Gluten</td>\n",
       "      <td>3</td>\n",
       "      <td>Meals</td>\n",
       "      <td>Composite foods</td>\n",
       "      <td>One-dish meals</td>\n",
       "    </tr>\n",
       "    <tr>\n",
       "      <th>1347</th>\n",
       "      <td>grilled Cajun chicken breast, spicy wedges &amp; s...</td>\n",
       "      <td>en:meals,en:meat-based-products,en:meals-with-...</td>\n",
       "      <td>Meals,Meat-based products,Meals with meat,Poul...</td>\n",
       "      <td>europe,royaume-uni</td>\n",
       "      <td>royaume-uni</td>\n",
       "      <td>Peu ou pas de matière grasse,Peu de matière gr...</td>\n",
       "      <td>France,United Kingdom</td>\n",
       "      <td>Lait</td>\n",
       "      <td>5</td>\n",
       "      <td>Meals</td>\n",
       "      <td>Composite foods</td>\n",
       "      <td>One-dish meals</td>\n",
       "    </tr>\n",
       "    <tr>\n",
       "      <th>1354</th>\n",
       "      <td>Cornish Cove Cheddar</td>\n",
       "      <td>en:dairies,en:fermented-foods,en:fermented-mil...</td>\n",
       "      <td>Dairies,Fermented foods,Fermented milk product...</td>\n",
       "      <td>royaume-uni</td>\n",
       "      <td>royaume-uni</td>\n",
       "      <td>Point Vert</td>\n",
       "      <td>France</td>\n",
       "      <td>Lait</td>\n",
       "      <td>2</td>\n",
       "      <td>Dairies</td>\n",
       "      <td>Milk and dairy products</td>\n",
       "      <td>Cheese</td>\n",
       "    </tr>\n",
       "    <tr>\n",
       "      <th>1392</th>\n",
       "      <td>Mild Cheddar with Onions &amp; Chives</td>\n",
       "      <td>en:dairies,en:fermented-foods,en:fermented-mil...</td>\n",
       "      <td>Dairies,Fermented foods,Fermented milk product...</td>\n",
       "      <td>royaume-uni</td>\n",
       "      <td>royaume-uni,irelande</td>\n",
       "      <td>Point Vert</td>\n",
       "      <td>France,United Kingdom</td>\n",
       "      <td>Fromage, Lait</td>\n",
       "      <td>2</td>\n",
       "      <td>Dairies</td>\n",
       "      <td>Milk and dairy products</td>\n",
       "      <td>Cheese</td>\n",
       "    </tr>\n",
       "  </tbody>\n",
       "</table>\n",
       "</div>"
      ],
      "text/plain": [
       "                                           product_name  \\\n",
       "1065  Cornish Cruncher Cheddar & Pickled Onion Hand ...   \n",
       "1142                       6 Breaded Jumbo Tiger Prawns   \n",
       "1347  grilled Cajun chicken breast, spicy wedges & s...   \n",
       "1354                               Cornish Cove Cheddar   \n",
       "1392                  Mild Cheddar with Onions & Chives   \n",
       "\n",
       "                                        categories_tags  \\\n",
       "1065  en:plant-based-foods-and-beverages,en:plant-ba...   \n",
       "1142  en:meals,en:refrigerated-foods,en:breaded-prod...   \n",
       "1347  en:meals,en:meat-based-products,en:meals-with-...   \n",
       "1354  en:dairies,en:fermented-foods,en:fermented-mil...   \n",
       "1392  en:dairies,en:fermented-foods,en:fermented-mil...   \n",
       "\n",
       "                                          categories_en        origins_tags  \\\n",
       "1065  Plant-based foods and beverages,Plant-based fo...         royaume-uni   \n",
       "1142  Meals,Refrigerated foods,Breaded products,Refr...             vietnam   \n",
       "1347  Meals,Meat-based products,Meals with meat,Poul...  europe,royaume-uni   \n",
       "1354  Dairies,Fermented foods,Fermented milk product...         royaume-uni   \n",
       "1392  Dairies,Fermented foods,Fermented milk product...         royaume-uni   \n",
       "\n",
       "     manufacturing_places_tags  \\\n",
       "1065               royaume-uni   \n",
       "1142                   vietnam   \n",
       "1347               royaume-uni   \n",
       "1354               royaume-uni   \n",
       "1392      royaume-uni,irelande   \n",
       "\n",
       "                                                 labels  \\\n",
       "1065                                         Point Vert   \n",
       "1142                               Point Vert,Décongelé   \n",
       "1347  Peu ou pas de matière grasse,Peu de matière gr...   \n",
       "1354                                         Point Vert   \n",
       "1392                                         Point Vert   \n",
       "\n",
       "               countries_en                          allergens  \\\n",
       "1065  France,United Kingdom               Lait, Lait, Babeurre   \n",
       "1142  France,United Kingdom  Crevettes, Crustacés, blé, Gluten   \n",
       "1347  France,United Kingdom                               Lait   \n",
       "1354                 France                               Lait   \n",
       "1392  France,United Kingdom                      Fromage, Lait   \n",
       "\n",
       "      nutrition_grade_fr                 main_category_en  \\\n",
       "1065                   3  Plant-based foods and beverages   \n",
       "1142                   3                            Meals   \n",
       "1347                   5                            Meals   \n",
       "1354                   2                          Dairies   \n",
       "1392                   2                          Dairies   \n",
       "\n",
       "                pnns_groups_1   pnns_groups_2  \n",
       "1065             Salty snacks      Appetizers  \n",
       "1142          Composite foods  One-dish meals  \n",
       "1347          Composite foods  One-dish meals  \n",
       "1354  Milk and dairy products          Cheese  \n",
       "1392  Milk and dairy products          Cheese  "
      ]
     },
     "execution_count": 21,
     "metadata": {},
     "output_type": "execute_result"
    }
   ],
   "source": [
    "mapping_nutrition = {'a': 5, 'b': 4, 'c': 3, 'd': 2, 'e': 1, 'f': 0}\n",
    "mapped = selected_data.dropna().replace({'nutrition_grade_fr': mapping_nutrition})\n",
    "mapped.head()"
   ]
  },
  {
   "cell_type": "markdown",
   "metadata": {},
   "source": [
    "## Gross Domestic Product and Life Expectancy dataset"
   ]
  },
  {
   "cell_type": "code",
   "execution_count": 22,
   "metadata": {},
   "outputs": [],
   "source": [
    "gdp = pd.read_csv(data_folder + 'GDP.csv')"
   ]
  },
  {
   "cell_type": "code",
   "execution_count": 23,
   "metadata": {},
   "outputs": [
    {
     "data": {
      "text/html": [
       "<div>\n",
       "<style scoped>\n",
       "    .dataframe tbody tr th:only-of-type {\n",
       "        vertical-align: middle;\n",
       "    }\n",
       "\n",
       "    .dataframe tbody tr th {\n",
       "        vertical-align: top;\n",
       "    }\n",
       "\n",
       "    .dataframe thead th {\n",
       "        text-align: right;\n",
       "    }\n",
       "</style>\n",
       "<table border=\"1\" class=\"dataframe\">\n",
       "  <thead>\n",
       "    <tr style=\"text-align: right;\">\n",
       "      <th></th>\n",
       "      <th>countries_en</th>\n",
       "      <th>country_code</th>\n",
       "      <th>2017</th>\n",
       "    </tr>\n",
       "  </thead>\n",
       "  <tbody>\n",
       "    <tr>\n",
       "      <th>1</th>\n",
       "      <td>Afghanistan</td>\n",
       "      <td>AFG</td>\n",
       "      <td>2.081530e+10</td>\n",
       "    </tr>\n",
       "    <tr>\n",
       "      <th>2</th>\n",
       "      <td>Angola</td>\n",
       "      <td>AGO</td>\n",
       "      <td>1.242094e+11</td>\n",
       "    </tr>\n",
       "    <tr>\n",
       "      <th>3</th>\n",
       "      <td>Albania</td>\n",
       "      <td>ALB</td>\n",
       "      <td>1.303935e+10</td>\n",
       "    </tr>\n",
       "    <tr>\n",
       "      <th>4</th>\n",
       "      <td>Andorra</td>\n",
       "      <td>AND</td>\n",
       "      <td>3.012914e+09</td>\n",
       "    </tr>\n",
       "    <tr>\n",
       "      <th>5</th>\n",
       "      <td>Arab World</td>\n",
       "      <td>ARB</td>\n",
       "      <td>2.591047e+12</td>\n",
       "    </tr>\n",
       "  </tbody>\n",
       "</table>\n",
       "</div>"
      ],
      "text/plain": [
       "  countries_en country_code          2017\n",
       "1  Afghanistan          AFG  2.081530e+10\n",
       "2       Angola          AGO  1.242094e+11\n",
       "3      Albania          ALB  1.303935e+10\n",
       "4      Andorra          AND  3.012914e+09\n",
       "5   Arab World          ARB  2.591047e+12"
      ]
     },
     "execution_count": 23,
     "metadata": {},
     "output_type": "execute_result"
    }
   ],
   "source": [
    "gdp = gdp[['Country Name', 'Country Code', '2017']].dropna()\n",
    "gdp.columns = ['countries_en', 'country_code', '2017']\n",
    "gdp.head()"
   ]
  },
  {
   "cell_type": "markdown",
   "metadata": {},
   "source": [
    "We kept the following columns:\n",
    "- countries_en: name of the countries in english\n",
    "- country_code: country codes\n",
    "- 2017: 2017 GDP values (most recent available)"
   ]
  },
  {
   "cell_type": "markdown",
   "metadata": {},
   "source": [
    "We plot the distribution:"
   ]
  },
  {
   "cell_type": "code",
   "execution_count": 24,
   "metadata": {},
   "outputs": [
    {
     "data": {
      "text/plain": [
       "<matplotlib.axes._subplots.AxesSubplot at 0x1ab0195a470>"
      ]
     },
     "execution_count": 24,
     "metadata": {},
     "output_type": "execute_result"
    },
    {
     "data": {
      "image/png": "[encoded data removed]",
      "text/plain": [
       "<Figure size 1080x720 with 1 Axes>"
      ]
     },
     "metadata": {},
     "output_type": "display_data"
    }
   ],
   "source": [
    "sns.boxplot(x=(gdp['2017']), showfliers=False, width=0.3)"
   ]
  },
  {
   "cell_type": "markdown",
   "metadata": {},
   "source": [
    "There are some extreme offliers that crush the boxplots, and we see the the first 50 percentile is very condensed. The statistical description of the values is the following :"
   ]
  },
  {
   "cell_type": "code",
   "execution_count": 25,
   "metadata": {},
   "outputs": [
    {
     "data": {
      "text/plain": [
       "count    2.340000e+02\n",
       "mean     2.848129e+12\n",
       "std      9.177562e+12\n",
       "min      3.973132e+07\n",
       "25%      1.150900e+10\n",
       "50%      5.944777e+10\n",
       "75%      7.175373e+11\n",
       "max      8.068379e+13\n",
       "Name: 2017, dtype: float64"
      ]
     },
     "execution_count": 25,
     "metadata": {},
     "output_type": "execute_result"
    }
   ],
   "source": [
    "gdp['2017'].describe()"
   ]
  },
  {
   "cell_type": "markdown",
   "metadata": {},
   "source": [
    "We also want to observe an eventual relation between food quality and health. For this we also found on the same website the LE.csv file from which we can obtain the life expectancy per country. We will use the data for year 2016 as it is the most recent available year (year 2017 has no value) :"
   ]
  },
  {
   "cell_type": "code",
   "execution_count": 26,
   "metadata": {},
   "outputs": [],
   "source": [
    "le = pd.read_csv(data_folder + 'LE.csv')\n",
    "#le.head()"
   ]
  },
  {
   "cell_type": "code",
   "execution_count": 27,
   "metadata": {
    "scrolled": true
   },
   "outputs": [
    {
     "data": {
      "text/html": [
       "<div>\n",
       "<style scoped>\n",
       "    .dataframe tbody tr th:only-of-type {\n",
       "        vertical-align: middle;\n",
       "    }\n",
       "\n",
       "    .dataframe tbody tr th {\n",
       "        vertical-align: top;\n",
       "    }\n",
       "\n",
       "    .dataframe thead th {\n",
       "        text-align: right;\n",
       "    }\n",
       "</style>\n",
       "<table border=\"1\" class=\"dataframe\">\n",
       "  <thead>\n",
       "    <tr style=\"text-align: right;\">\n",
       "      <th></th>\n",
       "      <th>countries_en</th>\n",
       "      <th>country_code</th>\n",
       "      <th>2016</th>\n",
       "    </tr>\n",
       "  </thead>\n",
       "  <tbody>\n",
       "    <tr>\n",
       "      <th>0</th>\n",
       "      <td>Aruba</td>\n",
       "      <td>ABW</td>\n",
       "      <td>75.867000</td>\n",
       "    </tr>\n",
       "    <tr>\n",
       "      <th>1</th>\n",
       "      <td>Afghanistan</td>\n",
       "      <td>AFG</td>\n",
       "      <td>63.673000</td>\n",
       "    </tr>\n",
       "    <tr>\n",
       "      <th>2</th>\n",
       "      <td>Angola</td>\n",
       "      <td>AGO</td>\n",
       "      <td>61.547000</td>\n",
       "    </tr>\n",
       "    <tr>\n",
       "      <th>3</th>\n",
       "      <td>Albania</td>\n",
       "      <td>ALB</td>\n",
       "      <td>78.345000</td>\n",
       "    </tr>\n",
       "    <tr>\n",
       "      <th>5</th>\n",
       "      <td>Arab World</td>\n",
       "      <td>ARB</td>\n",
       "      <td>71.198456</td>\n",
       "    </tr>\n",
       "  </tbody>\n",
       "</table>\n",
       "</div>"
      ],
      "text/plain": [
       "  countries_en country_code       2016\n",
       "0        Aruba          ABW  75.867000\n",
       "1  Afghanistan          AFG  63.673000\n",
       "2       Angola          AGO  61.547000\n",
       "3      Albania          ALB  78.345000\n",
       "5   Arab World          ARB  71.198456"
      ]
     },
     "execution_count": 27,
     "metadata": {},
     "output_type": "execute_result"
    }
   ],
   "source": [
    "le = le[['Country Name', 'Country Code', '2016']].dropna()\n",
    "le.columns = ['countries_en', 'country_code', '2016']\n",
    "le.head()"
   ]
  },
  {
   "cell_type": "code",
   "execution_count": 28,
   "metadata": {},
   "outputs": [
    {
     "data": {
      "text/plain": [
       "<matplotlib.axes._subplots.AxesSubplot at 0x1ab013aa128>"
      ]
     },
     "execution_count": 28,
     "metadata": {},
     "output_type": "execute_result"
    },
    {
     "data": {
      "image/png": "[encoded data removed]",
      "text/plain": [
       "<Figure size 1080x720 with 1 Axes>"
      ]
     },
     "metadata": {},
     "output_type": "display_data"
    }
   ],
   "source": [
    "sns.boxplot(x=(le['2016']), showfliers=False, width=0.3)"
   ]
  },
  {
   "cell_type": "markdown",
   "metadata": {},
   "source": [
    "Here we see that the life expectancy seems to be more uniformly distributed that our results for the GDP. We observe that we have also very distant low outliers, and also high outliers, that extends the boxplot."
   ]
  },
  {
   "cell_type": "code",
   "execution_count": 29,
   "metadata": {
    "scrolled": false
   },
   "outputs": [
    {
     "data": {
      "text/plain": [
       "count    245.000000\n",
       "mean      71.992486\n",
       "std        7.515606\n",
       "min       51.835000\n",
       "25%       66.683000\n",
       "50%       73.473000\n",
       "75%       77.203000\n",
       "max       84.226829\n",
       "Name: 2016, dtype: float64"
      ]
     },
     "execution_count": 29,
     "metadata": {},
     "output_type": "execute_result"
    }
   ],
   "source": [
    "le['2016'].describe()"
   ]
  },
  {
   "cell_type": "code",
   "execution_count": 30,
   "metadata": {},
   "outputs": [],
   "source": [
    "result = gdp.join(le, lsuffix='_caller', rsuffix='_other')"
   ]
  },
  {
   "cell_type": "code",
   "execution_count": 31,
   "metadata": {},
   "outputs": [
    {
     "data": {
      "text/plain": [
       "0.16017123003591782"
      ]
     },
     "execution_count": 31,
     "metadata": {},
     "output_type": "execute_result"
    }
   ],
   "source": [
    "result['2017'].corr(result['2016'])"
   ]
  },
  {
   "cell_type": "markdown",
   "metadata": {},
   "source": [
    "As it is shown the level of correlation between both values, the ones from the GDP and the ones from the Life Expectancy are not veryy correlated. We will try to compute the one between the average nutritient scores and both the life expectancy and GDP and see if we manage to observe more interesting results."
   ]
  },
  {
   "cell_type": "markdown",
   "metadata": {},
   "source": [
    "# Geopy"
   ]
  },
  {
   "cell_type": "markdown",
   "metadata": {},
   "source": [
    "In order to compute the impact of the globalization we desire to compute the distance between countries. For that we decided to use GeoPy. A dataset that holds the localization of the cities and countries around the world."
   ]
  },
  {
   "cell_type": "code",
   "execution_count": 32,
   "metadata": {},
   "outputs": [
    {
     "name": "stdout",
     "output_type": "stream",
     "text": [
      "(46.603354, 1.8883335)\n",
      "(54.7023545, -3.2765753)\n",
      "971.5166387817475 km\n"
     ]
    }
   ],
   "source": [
    "#Computes distance between two points\n",
    "d = distance.distance\n",
    "#Allows looking for a location\n",
    "g = Nominatim(user_agent=\"specify_your_app_name_here\")\n",
    "#Finds the geographic center of a country or city as specified\n",
    "_, fr = g.geocode('france')\n",
    "_, uk = g.geocode('united-kingdom')\n",
    "print(fr)\n",
    "print(uk)\n",
    "print(d(fr, uk))"
   ]
  },
  {
   "cell_type": "markdown",
   "metadata": {},
   "source": [
    "To measure distances between countries we can either decide to use the capitals per country as their point of reference or we can use the name of the country e.g. France to get the center of the country as a point of reference."
   ]
  },
  {
   "cell_type": "markdown",
   "metadata": {},
   "source": [
    "By using the values found in the columns of origins and countries we can directly compute the distance in kilometers between countries. We decided that to keep fairness, we will measure the distances between the centers of the countries. "
   ]
  },
  {
   "cell_type": "markdown",
   "metadata": {},
   "source": [
    "To compute its impact in the environment we should use the carbon footprint. However, this data is inconsistent and very small inside our dataset. So, as a general carbon footprint we will compute the average of the ones we have in the dataset to use it as a unit per kilometer for each product."
   ]
  },
  {
   "cell_type": "code",
   "execution_count": 33,
   "metadata": {},
   "outputs": [
    {
     "data": {
      "text/plain": [
       "269.9532424970931"
      ]
     },
     "execution_count": 33,
     "metadata": {},
     "output_type": "execute_result"
    }
   ],
   "source": [
    "avg_footprint = data['carbon-footprint_100g'].sum()/data['carbon-footprint_100g'].count()\n",
    "avg_footprint"
   ]
  },
  {
   "cell_type": "markdown",
   "metadata": {},
   "source": [
    "# Cleaning the data"
   ]
  },
  {
   "cell_type": "markdown",
   "metadata": {},
   "source": [
    "In this part, we will take care of the missing values as well as properly formating the columns."
   ]
  },
  {
   "cell_type": "markdown",
   "metadata": {},
   "source": [
    "## Open Food Facts dataset"
   ]
  },
  {
   "cell_type": "code",
   "execution_count": 34,
   "metadata": {},
   "outputs": [
    {
     "data": {
      "text/html": [
       "<div>\n",
       "<style scoped>\n",
       "    .dataframe tbody tr th:only-of-type {\n",
       "        vertical-align: middle;\n",
       "    }\n",
       "\n",
       "    .dataframe tbody tr th {\n",
       "        vertical-align: top;\n",
       "    }\n",
       "\n",
       "    .dataframe thead th {\n",
       "        text-align: right;\n",
       "    }\n",
       "</style>\n",
       "<table border=\"1\" class=\"dataframe\">\n",
       "  <thead>\n",
       "    <tr style=\"text-align: right;\">\n",
       "      <th></th>\n",
       "      <th>Unnamed: 0</th>\n",
       "      <th>product_name</th>\n",
       "      <th>categories_tags</th>\n",
       "      <th>categories_en</th>\n",
       "      <th>origins_tags</th>\n",
       "      <th>manufacturing_places_tags</th>\n",
       "      <th>labels</th>\n",
       "      <th>countries_en</th>\n",
       "      <th>allergens</th>\n",
       "      <th>nutrition_grade_fr</th>\n",
       "      <th>main_category_en</th>\n",
       "      <th>pnns_groups_1</th>\n",
       "      <th>pnns_groups_2</th>\n",
       "    </tr>\n",
       "  </thead>\n",
       "  <tbody>\n",
       "    <tr>\n",
       "      <th>0</th>\n",
       "      <td>0</td>\n",
       "      <td>Vitória crackers</td>\n",
       "      <td>NaN</td>\n",
       "      <td>NaN</td>\n",
       "      <td>NaN</td>\n",
       "      <td>NaN</td>\n",
       "      <td>NaN</td>\n",
       "      <td>France</td>\n",
       "      <td>NaN</td>\n",
       "      <td>NaN</td>\n",
       "      <td>NaN</td>\n",
       "      <td>NaN</td>\n",
       "      <td>NaN</td>\n",
       "    </tr>\n",
       "    <tr>\n",
       "      <th>1</th>\n",
       "      <td>1</td>\n",
       "      <td>Cacao</td>\n",
       "      <td>NaN</td>\n",
       "      <td>NaN</td>\n",
       "      <td>NaN</td>\n",
       "      <td>NaN</td>\n",
       "      <td>NaN</td>\n",
       "      <td>France</td>\n",
       "      <td>NaN</td>\n",
       "      <td>NaN</td>\n",
       "      <td>NaN</td>\n",
       "      <td>NaN</td>\n",
       "      <td>NaN</td>\n",
       "    </tr>\n",
       "    <tr>\n",
       "      <th>2</th>\n",
       "      <td>2</td>\n",
       "      <td>Sauce Sweety chili 0%</td>\n",
       "      <td>NaN</td>\n",
       "      <td>NaN</td>\n",
       "      <td>NaN</td>\n",
       "      <td>NaN</td>\n",
       "      <td>NaN</td>\n",
       "      <td>France</td>\n",
       "      <td>NaN</td>\n",
       "      <td>NaN</td>\n",
       "      <td>NaN</td>\n",
       "      <td>NaN</td>\n",
       "      <td>NaN</td>\n",
       "    </tr>\n",
       "    <tr>\n",
       "      <th>3</th>\n",
       "      <td>3</td>\n",
       "      <td>Mini coco</td>\n",
       "      <td>NaN</td>\n",
       "      <td>NaN</td>\n",
       "      <td>NaN</td>\n",
       "      <td>NaN</td>\n",
       "      <td>NaN</td>\n",
       "      <td>France</td>\n",
       "      <td>NaN</td>\n",
       "      <td>NaN</td>\n",
       "      <td>NaN</td>\n",
       "      <td>NaN</td>\n",
       "      <td>NaN</td>\n",
       "    </tr>\n",
       "    <tr>\n",
       "      <th>4</th>\n",
       "      <td>4</td>\n",
       "      <td>Mendiants</td>\n",
       "      <td>NaN</td>\n",
       "      <td>NaN</td>\n",
       "      <td>NaN</td>\n",
       "      <td>NaN</td>\n",
       "      <td>NaN</td>\n",
       "      <td>France</td>\n",
       "      <td>NaN</td>\n",
       "      <td>NaN</td>\n",
       "      <td>NaN</td>\n",
       "      <td>NaN</td>\n",
       "      <td>NaN</td>\n",
       "    </tr>\n",
       "  </tbody>\n",
       "</table>\n",
       "</div>"
      ],
      "text/plain": [
       "   Unnamed: 0           product_name categories_tags categories_en  \\\n",
       "0           0       Vitória crackers             NaN           NaN   \n",
       "1           1                  Cacao             NaN           NaN   \n",
       "2           2  Sauce Sweety chili 0%             NaN           NaN   \n",
       "3           3              Mini coco             NaN           NaN   \n",
       "4           4              Mendiants             NaN           NaN   \n",
       "\n",
       "  origins_tags manufacturing_places_tags labels countries_en allergens  \\\n",
       "0          NaN                       NaN    NaN       France       NaN   \n",
       "1          NaN                       NaN    NaN       France       NaN   \n",
       "2          NaN                       NaN    NaN       France       NaN   \n",
       "3          NaN                       NaN    NaN       France       NaN   \n",
       "4          NaN                       NaN    NaN       France       NaN   \n",
       "\n",
       "  nutrition_grade_fr main_category_en pnns_groups_1 pnns_groups_2  \n",
       "0                NaN              NaN           NaN           NaN  \n",
       "1                NaN              NaN           NaN           NaN  \n",
       "2                NaN              NaN           NaN           NaN  \n",
       "3                NaN              NaN           NaN           NaN  \n",
       "4                NaN              NaN           NaN           NaN  "
      ]
     },
     "execution_count": 34,
     "metadata": {},
     "output_type": "execute_result"
    }
   ],
   "source": [
    "data_selected = pd.read_csv(data_folder + 'selected_data.csv')\n",
    "data_selected.head()"
   ]
  },
  {
   "cell_type": "markdown",
   "metadata": {},
   "source": [
    "## Countries"
   ]
  },
  {
   "cell_type": "markdown",
   "metadata": {},
   "source": [
    "We saw before that countries are often written as list of countries in the dataset columns, we need to expand these lists to be able to use this data (acts like split() + explode()) : "
   ]
  },
  {
   "cell_type": "code",
   "execution_count": 35,
   "metadata": {},
   "outputs": [],
   "source": [
    "#Splits the rows in different rows for each of the values in a list of the specified column\n",
    "def first_spliter(df, col):\n",
    "    s = df[col].str.split(',', expand=True).stack()\n",
    "    i = s.index.get_level_values(0)\n",
    "    df2 = df.loc[i].copy()\n",
    "    df2[col] = s.values\n",
    "    return df2\n",
    "\n",
    "#Splits the rows in different rows for each of the values in a list of the specified column\n",
    "def splitter(df, col):\n",
    "    return df.drop(col, axis=1).join(df[col].str.split(',', expand=True).stack().reset_index(level=1, drop=True).rename(col))\n"
   ]
  },
  {
   "cell_type": "markdown",
   "metadata": {},
   "source": [
    "Drop the unwanted rows"
   ]
  },
  {
   "cell_type": "code",
   "execution_count": 36,
   "metadata": {},
   "outputs": [],
   "source": [
    "data_countries = data_selected[data_selected['countries_en']!=\"\"]\n",
    "data_origins = data_countries[data_countries['origins_tags']!=\"\"]\n",
    "data_manu = data_countries[data_countries['manufacturing_places_tags']!=\"\"]"
   ]
  },
  {
   "cell_type": "code",
   "execution_count": 37,
   "metadata": {},
   "outputs": [],
   "source": [
    "data_countries15 = splitter(data_countries, 'countries_en')"
   ]
  },
  {
   "cell_type": "code",
   "execution_count": 38,
   "metadata": {},
   "outputs": [],
   "source": [
    "data_countries25 = splitter(data_countries15, 'origins_tags')"
   ]
  },
  {
   "cell_type": "code",
   "execution_count": 39,
   "metadata": {},
   "outputs": [],
   "source": [
    "data_countries_cleaned = splitter(data_countries25, 'manufacturing_places_tags')"
   ]
  },
  {
   "cell_type": "code",
   "execution_count": 41,
   "metadata": {
    "scrolled": true
   },
   "outputs": [
    {
     "data": {
      "text/plain": [
       "Unnamed: 0                   39474884\n",
       "product_name                 39447319\n",
       "categories_tags              38921839\n",
       "categories_en                 1380368\n",
       "labels                       38564109\n",
       "allergens                    38149395\n",
       "nutrition_grade_fr            1061962\n",
       "main_category_en              1380202\n",
       "pnns_groups_1                 1440902\n",
       "pnns_groups_2                 1486164\n",
       "countries_en                 39474190\n",
       "origins_tags                 38731335\n",
       "manufacturing_places_tags    38811627\n",
       "dtype: int64"
      ]
     },
     "execution_count": 41,
     "metadata": {},
     "output_type": "execute_result"
    }
   ],
   "source": [
    "data_countries_cleaned.count()"
   ]
  },
  {
   "cell_type": "code",
   "execution_count": 55,
   "metadata": {},
   "outputs": [],
   "source": [
    "mapped_by_countries = mapped[mapped['countries_en']!=\"\"]\n",
    "mapped_by_countries = splitter(mapped_by_countries, 'countries_en')"
   ]
  },
  {
   "cell_type": "markdown",
   "metadata": {},
   "source": [
    "# Plan for the Project"
   ]
  },
  {
   "cell_type": "markdown",
   "metadata": {},
   "source": [
    "# Societal aspects of food "
   ]
  },
  {
   "cell_type": "markdown",
   "metadata": {},
   "source": [
    "## Relations between food quality and general health"
   ]
  },
  {
   "cell_type": "markdown",
   "metadata": {},
   "source": [
    "We would first like to discover if for a given country the quality of the food that is consumed there can have an influence on the global health of this country. To this purpose we will use the nutritional coefficients grades, (maybe the average number of nocive additives) and the life expectancy data."
   ]
  },
  {
   "cell_type": "code",
   "execution_count": 59,
   "metadata": {},
   "outputs": [
    {
     "data": {
      "text/html": [
       "<div>\n",
       "<style scoped>\n",
       "    .dataframe tbody tr th:only-of-type {\n",
       "        vertical-align: middle;\n",
       "    }\n",
       "\n",
       "    .dataframe tbody tr th {\n",
       "        vertical-align: top;\n",
       "    }\n",
       "\n",
       "    .dataframe thead th {\n",
       "        text-align: right;\n",
       "    }\n",
       "</style>\n",
       "<table border=\"1\" class=\"dataframe\">\n",
       "  <thead>\n",
       "    <tr style=\"text-align: right;\">\n",
       "      <th></th>\n",
       "      <th>nutrition_grade_fr</th>\n",
       "    </tr>\n",
       "    <tr>\n",
       "      <th>countries_en</th>\n",
       "      <th></th>\n",
       "    </tr>\n",
       "  </thead>\n",
       "  <tbody>\n",
       "    <tr>\n",
       "      <th>Albania</th>\n",
       "      <td>1.000000</td>\n",
       "    </tr>\n",
       "    <tr>\n",
       "      <th>Algeria</th>\n",
       "      <td>3.500000</td>\n",
       "    </tr>\n",
       "    <tr>\n",
       "      <th>Australia</th>\n",
       "      <td>2.697368</td>\n",
       "    </tr>\n",
       "    <tr>\n",
       "      <th>Austria</th>\n",
       "      <td>2.428571</td>\n",
       "    </tr>\n",
       "    <tr>\n",
       "      <th>Belgium</th>\n",
       "      <td>2.795455</td>\n",
       "    </tr>\n",
       "  </tbody>\n",
       "</table>\n",
       "</div>"
      ],
      "text/plain": [
       "              nutrition_grade_fr\n",
       "countries_en                    \n",
       "Albania                 1.000000\n",
       "Algeria                 3.500000\n",
       "Australia               2.697368\n",
       "Austria                 2.428571\n",
       "Belgium                 2.795455"
      ]
     },
     "execution_count": 59,
     "metadata": {},
     "output_type": "execute_result"
    }
   ],
   "source": [
    "#We can group by countries to detemine the average nutritional grade for a given country in a dataframe\n",
    "grpby = mapped_by_countries.groupby(['countries_en'])\n",
    "b = grpby.agg({'nutrition_grade_fr':'mean'})\n",
    "b.head()"
   ]
  },
  {
   "cell_type": "markdown",
   "metadata": {},
   "source": [
    "## Relations between food quality and general wealth"
   ]
  },
  {
   "cell_type": "markdown",
   "metadata": {},
   "source": [
    "We will also analyze the possible links between average food quality and the global wealth of a country. For this we will again use  the nutritional coefficients grades, (maybe the average number of nocive additives) and the GDPs."
   ]
  },
  {
   "cell_type": "markdown",
   "metadata": {},
   "source": [
    "# Impacts of Globalization"
   ]
  },
  {
   "cell_type": "markdown",
   "metadata": {},
   "source": [
    "## Consequences of globalization, case study on countries"
   ]
  },
  {
   "cell_type": "markdown",
   "metadata": {},
   "source": [
    "We will take the example of concrete countries like Switzerland and France to observe how the globalization impacts the food quality of these countries. We will try to observe if the food imported from abroad to these countries is globally healthier or not than the one produced in those countries, by using data like nutritional coefficients and additives."
   ]
  },
  {
   "cell_type": "markdown",
   "metadata": {},
   "source": [
    "## Ecological footprint of globalization"
   ]
  },
  {
   "cell_type": "markdown",
   "metadata": {},
   "source": [
    "We will analyze the ecological footprint of the food transport. What distance does the food travel before reaching countries like the ones we will study ? How can we quantify this footprint ?  We will use for this the geographic data from GeoPy and as values for the carbon footprint the average of our current carbon footprint from our dataset."
   ]
  },
  {
   "cell_type": "markdown",
   "metadata": {},
   "source": [
    "# Conclusion"
   ]
  },
  {
   "cell_type": "markdown",
   "metadata": {},
   "source": [
    "We will try to bring all our observations and analysis to make a global statement on the effects of globalization on the world and more specifically on countries like Switzerland. Do globalization impacts our environnement ? Is this globalization of food good for our health ? Should we try to eat more local or continue on this path ?"
   ]
  }
 ],
 "metadata": {
  "kernelspec": {
   "display_name": "Python [default]",
   "language": "python",
   "name": "python3"
  },
  "language_info": {
   "codemirror_mode": {
    "name": "ipython",
    "version": 3
   },
   "file_extension": ".py",
   "mimetype": "text/x-python",
   "name": "python",
   "nbconvert_exporter": "python",
   "pygments_lexer": "ipython3",
   "version": "3.7.0"
  }
 },
 "nbformat": 4,
 "nbformat_minor": 2
}
