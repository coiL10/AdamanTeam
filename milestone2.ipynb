{
 "cells": [
  {
   "cell_type": "markdown",
   "metadata": {},
   "source": [
    "## Milestone 2\n",
    "Dataset: Open Food Facts"
   ]
  },
  {
   "cell_type": "markdown",
   "metadata": {},
   "source": [
    "The dataset is downloaded and stored in the /data folder"
   ]
  },
  {
   "cell_type": "markdown",
   "metadata": {},
   "source": [
    "When describing the data, in particular, you should show (non-exhaustive list):\n",
    "\n",
    "- That you can handle the data in its size.\n",
    "- That you understand what’s into the data (formats, distributions, missing values, correlations, etc.).\n",
    "- That you considered ways to enrich, filter, transform the data according to your needs.\n",
    "- That you have updated your plan in a reasonable way, reflecting your improved knowledge after data acquaintance. In particular, discuss how your data suits your project needs and discuss the methods you’re going to use, giving their essential mathematical details in the notebook.\n",
    "- That your plan for analysis and communication is now reasonable and sound, potentially discussing alternatives to your choices that you considered but dropped.\n"
   ]
  },
  {
   "cell_type": "code",
   "execution_count": 1,
   "metadata": {},
   "outputs": [],
   "source": [
    "import pandas as pd\n",
    "import numpy as np\n",
    "import scipy as sp\n",
    "\n",
    "import findspark\n",
    "findspark.init()\n",
    "\n",
    "from pyspark.sql import *\n",
    "from pyspark.sql import functions as F\n",
    "from pyspark import SparkContext\n",
    "\n",
    "spark = SparkSession.builder.getOrCreate()\n",
    "sc = spark.sparkContext"
   ]
  },
  {
   "cell_type": "code",
   "execution_count": 3,
   "metadata": {},
   "outputs": [],
   "source": [
    "data_folder = './data/'"
   ]
  },
  {
   "cell_type": "markdown",
   "metadata": {},
   "source": [
    "# Loading the data"
   ]
  },
  {
   "cell_type": "markdown",
   "metadata": {},
   "source": [
    "The data is the CSV file that can be downloaded on the openfoodfacts website. Its size is 1.6 GB. We decided for this milestone to download and load it using spark."
   ]
  },
  {
   "cell_type": "code",
   "execution_count": 4,
   "metadata": {},
   "outputs": [],
   "source": [
    "data = spark.read.option(\"delimiter\", \"\\t\").option(\"header\", \"true\").csv(data_folder + \"en.openfoodfacts.org.products.csv\")"
   ]
  },
  {
   "cell_type": "markdown",
   "metadata": {},
   "source": [
    "We look at the columns and type to make sure it has been loaded correctly:"
   ]
  },
  {
   "cell_type": "code",
   "execution_count": 6,
   "metadata": {},
   "outputs": [
    {
     "data": {
      "text/plain": [
       "[('code', 'string'),\n",
       " ('url', 'string'),\n",
       " ('creator', 'string'),\n",
       " ('created_t', 'string'),\n",
       " ('created_datetime', 'string'),\n",
       " ('last_modified_t', 'string'),\n",
       " ('last_modified_datetime', 'string'),\n",
       " ('product_name', 'string'),\n",
       " ('generic_name', 'string'),\n",
       " ('quantity', 'string'),\n",
       " ('packaging', 'string'),\n",
       " ('packaging_tags', 'string'),\n",
       " ('brands', 'string'),\n",
       " ('brands_tags', 'string'),\n",
       " ('categories', 'string'),\n",
       " ('categories_tags', 'string'),\n",
       " ('categories_en', 'string'),\n",
       " ('origins', 'string'),\n",
       " ('origins_tags', 'string'),\n",
       " ('manufacturing_places', 'string'),\n",
       " ('manufacturing_places_tags', 'string'),\n",
       " ('labels', 'string'),\n",
       " ('labels_tags', 'string'),\n",
       " ('labels_en', 'string'),\n",
       " ('emb_codes', 'string'),\n",
       " ('emb_codes_tags', 'string'),\n",
       " ('first_packaging_code_geo', 'string'),\n",
       " ('cities', 'string'),\n",
       " ('cities_tags', 'string'),\n",
       " ('purchase_places', 'string'),\n",
       " ('stores', 'string'),\n",
       " ('countries', 'string'),\n",
       " ('countries_tags', 'string'),\n",
       " ('countries_en', 'string'),\n",
       " ('ingredients_text', 'string'),\n",
       " ('allergens', 'string'),\n",
       " ('allergens_en', 'string'),\n",
       " ('traces', 'string'),\n",
       " ('traces_tags', 'string'),\n",
       " ('traces_en', 'string'),\n",
       " ('serving_size', 'string'),\n",
       " ('serving_quantity', 'string'),\n",
       " ('no_nutriments', 'string'),\n",
       " ('additives_n', 'string'),\n",
       " ('additives', 'string'),\n",
       " ('additives_tags', 'string'),\n",
       " ('additives_en', 'string'),\n",
       " ('ingredients_from_palm_oil_n', 'string'),\n",
       " ('ingredients_from_palm_oil', 'string'),\n",
       " ('ingredients_from_palm_oil_tags', 'string'),\n",
       " ('ingredients_that_may_be_from_palm_oil_n', 'string'),\n",
       " ('ingredients_that_may_be_from_palm_oil', 'string'),\n",
       " ('ingredients_that_may_be_from_palm_oil_tags', 'string'),\n",
       " ('nutrition_grade_uk', 'string'),\n",
       " ('nutrition_grade_fr', 'string'),\n",
       " ('pnns_groups_1', 'string'),\n",
       " ('pnns_groups_2', 'string'),\n",
       " ('states', 'string'),\n",
       " ('states_tags', 'string'),\n",
       " ('states_en', 'string'),\n",
       " ('main_category', 'string'),\n",
       " ('main_category_en', 'string'),\n",
       " ('image_url', 'string'),\n",
       " ('image_small_url', 'string'),\n",
       " ('image_ingredients_url', 'string'),\n",
       " ('image_ingredients_small_url', 'string'),\n",
       " ('image_nutrition_url', 'string'),\n",
       " ('image_nutrition_small_url', 'string'),\n",
       " ('energy_100g', 'string'),\n",
       " ('energy-from-fat_100g', 'string'),\n",
       " ('fat_100g', 'string'),\n",
       " ('saturated-fat_100g', 'string'),\n",
       " ('-butyric-acid_100g', 'string'),\n",
       " ('-caproic-acid_100g', 'string'),\n",
       " ('-caprylic-acid_100g', 'string'),\n",
       " ('-capric-acid_100g', 'string'),\n",
       " ('-lauric-acid_100g', 'string'),\n",
       " ('-myristic-acid_100g', 'string'),\n",
       " ('-palmitic-acid_100g', 'string'),\n",
       " ('-stearic-acid_100g', 'string'),\n",
       " ('-arachidic-acid_100g', 'string'),\n",
       " ('-behenic-acid_100g', 'string'),\n",
       " ('-lignoceric-acid_100g', 'string'),\n",
       " ('-cerotic-acid_100g', 'string'),\n",
       " ('-montanic-acid_100g', 'string'),\n",
       " ('-melissic-acid_100g', 'string'),\n",
       " ('monounsaturated-fat_100g', 'string'),\n",
       " ('polyunsaturated-fat_100g', 'string'),\n",
       " ('omega-3-fat_100g', 'string'),\n",
       " ('-alpha-linolenic-acid_100g', 'string'),\n",
       " ('-eicosapentaenoic-acid_100g', 'string'),\n",
       " ('-docosahexaenoic-acid_100g', 'string'),\n",
       " ('omega-6-fat_100g', 'string'),\n",
       " ('-linoleic-acid_100g', 'string'),\n",
       " ('-arachidonic-acid_100g', 'string'),\n",
       " ('-gamma-linolenic-acid_100g', 'string'),\n",
       " ('-dihomo-gamma-linolenic-acid_100g', 'string'),\n",
       " ('omega-9-fat_100g', 'string'),\n",
       " ('-oleic-acid_100g', 'string'),\n",
       " ('-elaidic-acid_100g', 'string'),\n",
       " ('-gondoic-acid_100g', 'string'),\n",
       " ('-mead-acid_100g', 'string'),\n",
       " ('-erucic-acid_100g', 'string'),\n",
       " ('-nervonic-acid_100g', 'string'),\n",
       " ('trans-fat_100g', 'string'),\n",
       " ('cholesterol_100g', 'string'),\n",
       " ('carbohydrates_100g', 'string'),\n",
       " ('sugars_100g', 'string'),\n",
       " ('-sucrose_100g', 'string'),\n",
       " ('-glucose_100g', 'string'),\n",
       " ('-fructose_100g', 'string'),\n",
       " ('-lactose_100g', 'string'),\n",
       " ('-maltose_100g', 'string'),\n",
       " ('-maltodextrins_100g', 'string'),\n",
       " ('starch_100g', 'string'),\n",
       " ('polyols_100g', 'string'),\n",
       " ('fiber_100g', 'string'),\n",
       " ('proteins_100g', 'string'),\n",
       " ('casein_100g', 'string'),\n",
       " ('serum-proteins_100g', 'string'),\n",
       " ('nucleotides_100g', 'string'),\n",
       " ('salt_100g', 'string'),\n",
       " ('sodium_100g', 'string'),\n",
       " ('alcohol_100g', 'string'),\n",
       " ('vitamin-a_100g', 'string'),\n",
       " ('beta-carotene_100g', 'string'),\n",
       " ('vitamin-d_100g', 'string'),\n",
       " ('vitamin-e_100g', 'string'),\n",
       " ('vitamin-k_100g', 'string'),\n",
       " ('vitamin-c_100g', 'string'),\n",
       " ('vitamin-b1_100g', 'string'),\n",
       " ('vitamin-b2_100g', 'string'),\n",
       " ('vitamin-pp_100g', 'string'),\n",
       " ('vitamin-b6_100g', 'string'),\n",
       " ('vitamin-b9_100g', 'string'),\n",
       " ('folates_100g', 'string'),\n",
       " ('vitamin-b12_100g', 'string'),\n",
       " ('biotin_100g', 'string'),\n",
       " ('pantothenic-acid_100g', 'string'),\n",
       " ('silica_100g', 'string'),\n",
       " ('bicarbonate_100g', 'string'),\n",
       " ('potassium_100g', 'string'),\n",
       " ('chloride_100g', 'string'),\n",
       " ('calcium_100g', 'string'),\n",
       " ('phosphorus_100g', 'string'),\n",
       " ('iron_100g', 'string'),\n",
       " ('magnesium_100g', 'string'),\n",
       " ('zinc_100g', 'string'),\n",
       " ('copper_100g', 'string'),\n",
       " ('manganese_100g', 'string'),\n",
       " ('fluoride_100g', 'string'),\n",
       " ('selenium_100g', 'string'),\n",
       " ('chromium_100g', 'string'),\n",
       " ('molybdenum_100g', 'string'),\n",
       " ('iodine_100g', 'string'),\n",
       " ('caffeine_100g', 'string'),\n",
       " ('taurine_100g', 'string'),\n",
       " ('ph_100g', 'string'),\n",
       " ('fruits-vegetables-nuts_100g', 'string'),\n",
       " ('fruits-vegetables-nuts-estimate_100g', 'string'),\n",
       " ('collagen-meat-protein-ratio_100g', 'string'),\n",
       " ('cocoa_100g', 'string'),\n",
       " ('chlorophyl_100g', 'string'),\n",
       " ('carbon-footprint_100g', 'string'),\n",
       " ('nutrition-score-fr_100g', 'string'),\n",
       " ('nutrition-score-uk_100g', 'string'),\n",
       " ('glycemic-index_100g', 'string'),\n",
       " ('water-hardness_100g', 'string'),\n",
       " ('choline_100g', 'string'),\n",
       " ('phylloquinone_100g', 'string'),\n",
       " ('beta-glucan_100g', 'string'),\n",
       " ('inositol_100g', 'string'),\n",
       " ('carnitine_100g', 'string')]"
      ]
     },
     "execution_count": 6,
     "metadata": {},
     "output_type": "execute_result"
    }
   ],
   "source": [
    "data.dtypes"
   ]
  },
  {
   "cell_type": "code",
   "execution_count": null,
   "metadata": {},
   "outputs": [],
   "source": []
  }
 ],
 "metadata": {
  "kernelspec": {
   "display_name": "Python [default]",
   "language": "python",
   "name": "python3"
  },
  "language_info": {
   "codemirror_mode": {
    "name": "ipython",
    "version": 3
   },
   "file_extension": ".py",
   "mimetype": "text/x-python",
   "name": "python",
   "nbconvert_exporter": "python",
   "pygments_lexer": "ipython3",
   "version": "3.7.0"
  }
 },
 "nbformat": 4,
 "nbformat_minor": 2
}
