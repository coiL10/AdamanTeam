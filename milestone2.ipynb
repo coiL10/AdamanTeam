{
 "cells": [
  {
   "cell_type": "markdown",
   "metadata": {},
   "source": [
    "## Milestone 2\n",
    "Dataset: Open Food Facts"
   ]
  },
  {
   "cell_type": "markdown",
   "metadata": {},
   "source": [
    "The dataset is downloaded and stored in the /data folder"
   ]
  },
  {
   "cell_type": "markdown",
   "metadata": {},
   "source": [
    "When describing the data, in particular, you should show (non-exhaustive list):\n",
    "\n",
    "- That you can handle the data in its size.\n",
    "- That you understand what’s into the data (formats, distributions, missing values, correlations, etc.).\n",
    "- That you considered ways to enrich, filter, transform the data according to your needs.\n",
    "- That you have updated your plan in a reasonable way, reflecting your improved knowledge after data acquaintance. In particular, discuss how your data suits your project needs and discuss the methods you’re going to use, giving their essential mathematical details in the notebook.\n",
    "- That your plan for analysis and communication is now reasonable and sound, potentially discussing alternatives to your choices that you considered but dropped.\n"
   ]
  },
  {
   "cell_type": "code",
   "execution_count": 2,
   "metadata": {},
   "outputs": [],
   "source": [
    "import pandas as pd\n",
    "import numpy as np\n",
    "import scipy as sp\n",
    "\n",
    "import findspark\n",
    "findspark.init()\n",
    "\n",
    "from pyspark.sql import *\n",
    "from pyspark.sql import functions as F\n",
    "from pyspark import SparkContext\n",
    "\n",
    "spark = SparkSession.builder.getOrCreate()\n",
    "sc = spark.sparkContext"
   ]
  },
  {
   "cell_type": "code",
   "execution_count": 3,
   "metadata": {},
   "outputs": [],
   "source": [
    "data_folder = './data/'"
   ]
  },
  {
   "cell_type": "markdown",
   "metadata": {},
   "source": [
    "# Loading the data"
   ]
  },
  {
   "cell_type": "markdown",
   "metadata": {},
   "source": [
    "## Open Food Facts dataset"
   ]
  },
  {
   "cell_type": "markdown",
   "metadata": {},
   "source": [
    "The data is the CSV file that can be downloaded on the openfoodfacts website. Its size is 1.6 GB. We decided for this milestone to download and load it using spark."
   ]
  },
  {
   "cell_type": "code",
   "execution_count": 4,
   "metadata": {},
   "outputs": [],
   "source": [
    "data = spark.read.option(\"delimiter\", \"\\t\").option(\"header\", \"true\").csv(data_folder + \"en.openfoodfacts.org.products.csv\")"
   ]
  },
  {
   "cell_type": "code",
   "execution_count": 5,
   "metadata": {},
   "outputs": [
    {
     "name": "stdout",
     "output_type": "stream",
     "text": [
      "In the dataset, there are 697574 elements\n"
     ]
    }
   ],
   "source": [
    "print('In the dataset, there are {} elements'.format(data.count()))"
   ]
  },
  {
   "cell_type": "markdown",
   "metadata": {},
   "source": [
    "We look at the columns and type to make sure it has been loaded correctly:"
   ]
  },
  {
   "cell_type": "code",
   "execution_count": 6,
   "metadata": {},
   "outputs": [
    {
     "data": {
      "text/plain": [
       "[('code', 'string'),\n",
       " ('url', 'string'),\n",
       " ('creator', 'string'),\n",
       " ('created_t', 'string'),\n",
       " ('created_datetime', 'string'),\n",
       " ('last_modified_t', 'string'),\n",
       " ('last_modified_datetime', 'string'),\n",
       " ('product_name', 'string'),\n",
       " ('generic_name', 'string'),\n",
       " ('quantity', 'string'),\n",
       " ('packaging', 'string'),\n",
       " ('packaging_tags', 'string'),\n",
       " ('brands', 'string'),\n",
       " ('brands_tags', 'string'),\n",
       " ('categories', 'string'),\n",
       " ('categories_tags', 'string'),\n",
       " ('categories_en', 'string'),\n",
       " ('origins', 'string'),\n",
       " ('origins_tags', 'string'),\n",
       " ('manufacturing_places', 'string'),\n",
       " ('manufacturing_places_tags', 'string'),\n",
       " ('labels', 'string'),\n",
       " ('labels_tags', 'string'),\n",
       " ('labels_en', 'string'),\n",
       " ('emb_codes', 'string'),\n",
       " ('emb_codes_tags', 'string'),\n",
       " ('first_packaging_code_geo', 'string'),\n",
       " ('cities', 'string'),\n",
       " ('cities_tags', 'string'),\n",
       " ('purchase_places', 'string'),\n",
       " ('stores', 'string'),\n",
       " ('countries', 'string'),\n",
       " ('countries_tags', 'string'),\n",
       " ('countries_en', 'string'),\n",
       " ('ingredients_text', 'string'),\n",
       " ('allergens', 'string'),\n",
       " ('allergens_en', 'string'),\n",
       " ('traces', 'string'),\n",
       " ('traces_tags', 'string'),\n",
       " ('traces_en', 'string'),\n",
       " ('serving_size', 'string'),\n",
       " ('serving_quantity', 'string'),\n",
       " ('no_nutriments', 'string'),\n",
       " ('additives_n', 'string'),\n",
       " ('additives', 'string'),\n",
       " ('additives_tags', 'string'),\n",
       " ('additives_en', 'string'),\n",
       " ('ingredients_from_palm_oil_n', 'string'),\n",
       " ('ingredients_from_palm_oil', 'string'),\n",
       " ('ingredients_from_palm_oil_tags', 'string'),\n",
       " ('ingredients_that_may_be_from_palm_oil_n', 'string'),\n",
       " ('ingredients_that_may_be_from_palm_oil', 'string'),\n",
       " ('ingredients_that_may_be_from_palm_oil_tags', 'string'),\n",
       " ('nutrition_grade_uk', 'string'),\n",
       " ('nutrition_grade_fr', 'string'),\n",
       " ('pnns_groups_1', 'string'),\n",
       " ('pnns_groups_2', 'string'),\n",
       " ('states', 'string'),\n",
       " ('states_tags', 'string'),\n",
       " ('states_en', 'string'),\n",
       " ('main_category', 'string'),\n",
       " ('main_category_en', 'string'),\n",
       " ('image_url', 'string'),\n",
       " ('image_small_url', 'string'),\n",
       " ('image_ingredients_url', 'string'),\n",
       " ('image_ingredients_small_url', 'string'),\n",
       " ('image_nutrition_url', 'string'),\n",
       " ('image_nutrition_small_url', 'string'),\n",
       " ('energy_100g', 'string'),\n",
       " ('energy-from-fat_100g', 'string'),\n",
       " ('fat_100g', 'string'),\n",
       " ('saturated-fat_100g', 'string'),\n",
       " ('-butyric-acid_100g', 'string'),\n",
       " ('-caproic-acid_100g', 'string'),\n",
       " ('-caprylic-acid_100g', 'string'),\n",
       " ('-capric-acid_100g', 'string'),\n",
       " ('-lauric-acid_100g', 'string'),\n",
       " ('-myristic-acid_100g', 'string'),\n",
       " ('-palmitic-acid_100g', 'string'),\n",
       " ('-stearic-acid_100g', 'string'),\n",
       " ('-arachidic-acid_100g', 'string'),\n",
       " ('-behenic-acid_100g', 'string'),\n",
       " ('-lignoceric-acid_100g', 'string'),\n",
       " ('-cerotic-acid_100g', 'string'),\n",
       " ('-montanic-acid_100g', 'string'),\n",
       " ('-melissic-acid_100g', 'string'),\n",
       " ('monounsaturated-fat_100g', 'string'),\n",
       " ('polyunsaturated-fat_100g', 'string'),\n",
       " ('omega-3-fat_100g', 'string'),\n",
       " ('-alpha-linolenic-acid_100g', 'string'),\n",
       " ('-eicosapentaenoic-acid_100g', 'string'),\n",
       " ('-docosahexaenoic-acid_100g', 'string'),\n",
       " ('omega-6-fat_100g', 'string'),\n",
       " ('-linoleic-acid_100g', 'string'),\n",
       " ('-arachidonic-acid_100g', 'string'),\n",
       " ('-gamma-linolenic-acid_100g', 'string'),\n",
       " ('-dihomo-gamma-linolenic-acid_100g', 'string'),\n",
       " ('omega-9-fat_100g', 'string'),\n",
       " ('-oleic-acid_100g', 'string'),\n",
       " ('-elaidic-acid_100g', 'string'),\n",
       " ('-gondoic-acid_100g', 'string'),\n",
       " ('-mead-acid_100g', 'string'),\n",
       " ('-erucic-acid_100g', 'string'),\n",
       " ('-nervonic-acid_100g', 'string'),\n",
       " ('trans-fat_100g', 'string'),\n",
       " ('cholesterol_100g', 'string'),\n",
       " ('carbohydrates_100g', 'string'),\n",
       " ('sugars_100g', 'string'),\n",
       " ('-sucrose_100g', 'string'),\n",
       " ('-glucose_100g', 'string'),\n",
       " ('-fructose_100g', 'string'),\n",
       " ('-lactose_100g', 'string'),\n",
       " ('-maltose_100g', 'string'),\n",
       " ('-maltodextrins_100g', 'string'),\n",
       " ('starch_100g', 'string'),\n",
       " ('polyols_100g', 'string'),\n",
       " ('fiber_100g', 'string'),\n",
       " ('proteins_100g', 'string'),\n",
       " ('casein_100g', 'string'),\n",
       " ('serum-proteins_100g', 'string'),\n",
       " ('nucleotides_100g', 'string'),\n",
       " ('salt_100g', 'string'),\n",
       " ('sodium_100g', 'string'),\n",
       " ('alcohol_100g', 'string'),\n",
       " ('vitamin-a_100g', 'string'),\n",
       " ('beta-carotene_100g', 'string'),\n",
       " ('vitamin-d_100g', 'string'),\n",
       " ('vitamin-e_100g', 'string'),\n",
       " ('vitamin-k_100g', 'string'),\n",
       " ('vitamin-c_100g', 'string'),\n",
       " ('vitamin-b1_100g', 'string'),\n",
       " ('vitamin-b2_100g', 'string'),\n",
       " ('vitamin-pp_100g', 'string'),\n",
       " ('vitamin-b6_100g', 'string'),\n",
       " ('vitamin-b9_100g', 'string'),\n",
       " ('folates_100g', 'string'),\n",
       " ('vitamin-b12_100g', 'string'),\n",
       " ('biotin_100g', 'string'),\n",
       " ('pantothenic-acid_100g', 'string'),\n",
       " ('silica_100g', 'string'),\n",
       " ('bicarbonate_100g', 'string'),\n",
       " ('potassium_100g', 'string'),\n",
       " ('chloride_100g', 'string'),\n",
       " ('calcium_100g', 'string'),\n",
       " ('phosphorus_100g', 'string'),\n",
       " ('iron_100g', 'string'),\n",
       " ('magnesium_100g', 'string'),\n",
       " ('zinc_100g', 'string'),\n",
       " ('copper_100g', 'string'),\n",
       " ('manganese_100g', 'string'),\n",
       " ('fluoride_100g', 'string'),\n",
       " ('selenium_100g', 'string'),\n",
       " ('chromium_100g', 'string'),\n",
       " ('molybdenum_100g', 'string'),\n",
       " ('iodine_100g', 'string'),\n",
       " ('caffeine_100g', 'string'),\n",
       " ('taurine_100g', 'string'),\n",
       " ('ph_100g', 'string'),\n",
       " ('fruits-vegetables-nuts_100g', 'string'),\n",
       " ('fruits-vegetables-nuts-estimate_100g', 'string'),\n",
       " ('collagen-meat-protein-ratio_100g', 'string'),\n",
       " ('cocoa_100g', 'string'),\n",
       " ('chlorophyl_100g', 'string'),\n",
       " ('carbon-footprint_100g', 'string'),\n",
       " ('nutrition-score-fr_100g', 'string'),\n",
       " ('nutrition-score-uk_100g', 'string'),\n",
       " ('glycemic-index_100g', 'string'),\n",
       " ('water-hardness_100g', 'string'),\n",
       " ('choline_100g', 'string'),\n",
       " ('phylloquinone_100g', 'string'),\n",
       " ('beta-glucan_100g', 'string'),\n",
       " ('inositol_100g', 'string'),\n",
       " ('carnitine_100g', 'string')]"
      ]
     },
     "execution_count": 6,
     "metadata": {},
     "output_type": "execute_result"
    }
   ],
   "source": [
    "data.dtypes"
   ]
  },
  {
   "cell_type": "markdown",
   "metadata": {},
   "source": [
    "There are a lot of null values in the dataset, it is therefore a good idea to look at the number of products that have the tags we're interested:"
   ]
  },
  {
   "cell_type": "markdown",
   "metadata": {},
   "source": [
    "- Which countries are the highest exporters and importers and is there a relationship with the GDP?"
   ]
  },
  {
   "cell_type": "markdown",
   "metadata": {},
   "source": [
    "For this one, we're interested in the following tags: `origin`, `manufacturing_places` and `countries`"
   ]
  },
  {
   "cell_type": "code",
   "execution_count": 7,
   "metadata": {},
   "outputs": [
    {
     "name": "stdout",
     "output_type": "stream",
     "text": [
      "There are 42483 products that contains the origins tags\n",
      "There are 67356 products that contains the manufacturing_places tags\n",
      "There are 696976 products that contains the countries tags\n"
     ]
    }
   ],
   "source": [
    "print('There are {} products that contains the origins tags'.format(data.filter(data.origins != \"\").count()))\n",
    "print('There are {} products that contains the manufacturing_places tags'.format(data.filter(data.manufacturing_places != \"\").count()))\n",
    "print('There are {} products that contains the countries tags'.format(data.filter(data.countries != \"\").count()))"
   ]
  },
  {
   "cell_type": "markdown",
   "metadata": {},
   "source": [
    "Here, we are facing our first problem, while the countries have more than enough samples in it (we still need to check the distribution later on), the `origins` and `manufacturing_places` both represent less than 10% of the data. Now, if we check at the actual values of them:"
   ]
  },
  {
   "cell_type": "code",
   "execution_count": 10,
   "metadata": {},
   "outputs": [
    {
     "name": "stdout",
     "output_type": "stream",
     "text": [
      "+--------------------+\n",
      "|manufacturing_places|\n",
      "+--------------------+\n",
      "|bordères sur l'ec...|\n",
      "|             beauzac|\n",
      "|    sable sur Sarthe|\n",
      "|       Côte d'Ivoire|\n",
      "| France,62800 Lievin|\n",
      "|McCain Alimentair...|\n",
      "|S.A.S,Haute-Norma...|\n",
      "|        SOUTH AFRICA|\n",
      "|33290 Blanquefort...|\n",
      "|Candia (Filiale S...|\n",
      "|France,Jurançon,6...|\n",
      "|Primel Gastronomi...|\n",
      "|Candia (Filiale S...|\n",
      "|France,Conserveri...|\n",
      "|             rueyres|\n",
      "|France,LNUF MDD,3...|\n",
      "|Delmas Poissons e...|\n",
      "|Malissard,Provenc...|\n",
      "|       Vaudes,France|\n",
      "|Montgaillard,Haut...|\n",
      "|BPA Anjou,1 Chemi...|\n",
      "|Montoire sur le L...|\n",
      "|France,Kervignac,...|\n",
      "|56700,Kervignac,M...|\n",
      "|Montredon des Cor...|\n",
      "| France,SA Favrichon|\n",
      "|            Lavernay|\n",
      "|  st romain sur cher|\n",
      "|Concept Fruits,07...|\n",
      "|Belgique,5150 Flo...|\n",
      "| Pays Basque.,France|\n",
      "|30570 Saint André...|\n",
      "|85340,Olonne-sur-...|\n",
      "|Saint Genès-de-Bl...|\n",
      "|     France,Bordeaux|\n",
      "|Fabriqué en Franc...|\n",
      "|         France,gers|\n",
      "|Champagne-Ardenne...|\n",
      "|               Jever|\n",
      "|Silberstedt,Deuts...|\n",
      "|oldenburg,  deuts...|\n",
      "|odw Lebensmittel ...|\n",
      "|        Naples,Italy|\n",
      "|Сергиев Посад,Мос...|\n",
      "|Россия,Волгоградс...|\n",
      "|   г. Брест,Беларусь|\n",
      "|   Tipperary,Ireland|\n",
      "|        Cork,Ireland|\n",
      "|       Elciego,Spain|\n",
      "|        Thessaloniki|\n",
      "|               liban|\n",
      "|Székesfehérvár,Hu...|\n",
      "|     Kacsóta,Hungary|\n",
      "|Zhejiang Green Ho...|\n",
      "|         Tibet,China|\n",
      "|      Mexico,Yucatan|\n",
      "|      México,Durango|\n",
      "|    Pays Bas,Holande|\n",
      "|             Produit|\n",
      "|        Italia,Parma|\n",
      "|La Almunia de Doñ...|\n",
      "|[ENVASADOR],Ricla...|\n",
      "|          Luxemburgo|\n",
      "|Bierbrouwerij De ...|\n",
      "|                馬來西亞|\n",
      "|York,Royaume-Uni,...|\n",
      "|         non indiqué|\n",
      "|          58 079 005|\n",
      "|Granville ou Vervins|\n",
      "|               maroc|\n",
      "|Maine-et-Loire,Pa...|\n",
      "|35290,Bretagne,Il...|\n",
      "|                Inde|\n",
      "|Oliva, Valencia (...|\n",
      "|Bouças,Fafe,Portugal|\n",
      "|       35650 Le Rheu|\n",
      "|              Espaňa|\n",
      "|     Bretagne Liffré|\n",
      "|            moy park|\n",
      "|   Société Entremont|\n",
      "|France,Eure & Loi...|\n",
      "|            Provence|\n",
      "|Saupiquet,Quimper...|\n",
      "|Saint-Michel-Chef...|\n",
      "|Tradival (Filiale...|\n",
      "|France,Luneray,No...|\n",
      "|Société d'étude -...|\n",
      "|Capitaine Cook (F...|\n",
      "|Antartic,Val de L...|\n",
      "|France,Laiterie S...|\n",
      "| 35880 Laillé France|\n",
      "|      Locminé,France|\n",
      "|  Dalla Costa,Italie|\n",
      "|        Ernée France|\n",
      "|Lot-Et-Garonne,Fr...|\n",
      "|Couchey,Dijon (di...|\n",
      "|Etupes,Franche-Co...|\n",
      "|France,SAS Jeanne...|\n",
      "|France,Seine-Sain...|\n",
      "|Châteauneuf-du-Pa...|\n",
      "+--------------------+\n",
      "only showing top 100 rows\n",
      "\n"
     ]
    }
   ],
   "source": [
    "data.select('manufacturing_places').distinct().show(100)"
   ]
  },
  {
   "cell_type": "code",
   "execution_count": 11,
   "metadata": {},
   "outputs": [
    {
     "name": "stdout",
     "output_type": "stream",
     "text": [
      "+--------------------+\n",
      "|             origins|\n",
      "+--------------------+\n",
      "|Britain,British C...|\n",
      "|               45273|\n",
      "|          états unis|\n",
      "|       Côte d'Ivoire|\n",
      "|       Non spécifiée|\n",
      "|Côtes du Rhône,Fr...|\n",
      "|France,Pêcheries ...|\n",
      "|        SOUTH AFRICA|\n",
      "|   France ou Espagne|\n",
      "|Avoine Française,...|\n",
      "|Vin,Bourgogne,France|\n",
      "|Noix de Saint-Jac...|\n",
      "|     basse Normandie|\n",
      "|      Porc de France|\n",
      "|Languedoc Roussil...|\n",
      "|     France,Bordeaux|\n",
      "|Carpe origine France|\n",
      "| Beaumont-de-Lomagne|\n",
      "|                 Mer|\n",
      "|farine de blé T18...|\n",
      "|           France,35|\n",
      "|République Tchèqu...|\n",
      "|      Halluin,France|\n",
      "|Lait origine Fran...|\n",
      "|Pérou,Coopérative...|\n",
      "|Chine,Privince du...|\n",
      "|Pérou,République ...|\n",
      "|La Réunion,Morbih...|\n",
      "|      Chine,Paraguay|\n",
      "|      Nordostpazifik|\n",
      "|Union européenne,...|\n",
      "|             Toskana|\n",
      "|   Tipperary,Ireland|\n",
      "|        Cork,Ireland|\n",
      "|Ivory Coast,Domin...|\n",
      "|               liban|\n",
      "|      Mexico,Yucatan|\n",
      "|  Thailand,  Amerika|\n",
      "|Union européenne,...|\n",
      "|        Italia,Parma|\n",
      "|      España,Espagne|\n",
      "|Vitry sur Seine,F...|\n",
      "|  Pays Bas,Leimuiden|\n",
      "|Easter Grangemuir...|\n",
      "|Spain,Italy,Greec...|\n",
      "|                Inde|\n",
      "|         non indiqué|\n",
      "|        Thé de Chine|\n",
      "|              Indien|\n",
      "|  Vin blanc Riesling|\n",
      "|              import|\n",
      "|            Provence|\n",
      "|          non défini|\n",
      "|Argentine,Pérou,R...|\n",
      "|France,Italie,Uni...|\n",
      "|Produit et condit...|\n",
      "|Alliance Océane,5...|\n",
      "|Antilles,97213 Gr...|\n",
      "|Landes,Val de Loi...|\n",
      "|Plescop,Morbihan,...|\n",
      "|sud-ouest de la f...|\n",
      "|Moselle,Lorraine,...|\n",
      "|  Thaïlande,Cambodge|\n",
      "|Porc origine Unio...|\n",
      "|Paraguay,Républiq...|\n",
      "|Costa Rica,coopér...|\n",
      "|   Truite : Bretagne|\n",
      "|    Carmargue,France|\n",
      "|       France Cernay|\n",
      "|Cranberries des É...|\n",
      "|original Schweize...|\n",
      "|            Бразилия|\n",
      "|High plateaux aro...|\n",
      "|   Alentejo,Portugal|\n",
      "|    Oaxaca de Juárez|\n",
      "|//Ingrediente(s):...|\n",
      "|[CACAO],Bolivia,R...|\n",
      "|          Hawaii,USA|\n",
      "|            Paraguay|\n",
      "|viande bovine fra...|\n",
      "|          INGLATERRA|\n",
      "|      France,Ardèche|\n",
      "|France,Loire-Atla...|\n",
      "|              Russia|\n",
      "|  Rhône-Alpes,France|\n",
      "|Océan Pacifique N...|\n",
      "| 97% de blé français|\n",
      "|Sud-Ouest,France,...|\n",
      "|Espagne,Portugal,...|\n",
      "|80400 Eppeville,S...|\n",
      "|Importation,non p...|\n",
      "|Belgique,France,P...|\n",
      "|océan Pacifique N...|\n",
      "|matière première ...|\n",
      "|France,Noyal-sur-...|\n",
      "|France,Piment d'E...|\n",
      "|Choisy le Roi,île...|\n",
      "|451110 Saint mart...|\n",
      "|Le Port,Ile de la...|\n",
      "|Farine de froment...|\n",
      "+--------------------+\n",
      "only showing top 100 rows\n",
      "\n"
     ]
    }
   ],
   "source": [
    "data.select('origins').distinct().show(100)"
   ]
  },
  {
   "cell_type": "markdown",
   "metadata": {},
   "source": [
    "We are now facing another problem, all the tags are not normalized and a lot of them are even invalid (\"mer\", postal code, or in other languages). "
   ]
  },
  {
   "cell_type": "code",
   "execution_count": null,
   "metadata": {},
   "outputs": [],
   "source": []
  },
  {
   "cell_type": "markdown",
   "metadata": {},
   "source": [
    "## GDP and Life Expectancy"
   ]
  },
  {
   "cell_type": "markdown",
   "metadata": {},
   "source": [
    "We found the GDP per country (in USD) on the World Bank website"
   ]
  },
  {
   "cell_type": "code",
   "execution_count": 7,
   "metadata": {},
   "outputs": [],
   "source": [
    "gdp = spark.read.option(\"header\", \"true\").csv(data_folder + 'GDP.csv').select('Country Name', 'Country Code', '2016').withColumnRenamed('Country Name', 'countries_en')"
   ]
  },
  {
   "cell_type": "code",
   "execution_count": 8,
   "metadata": {},
   "outputs": [
    {
     "name": "stdout",
     "output_type": "stream",
     "text": [
      "+--------------------+------------+----------------+\n",
      "|        countries_en|Country Code|            2016|\n",
      "+--------------------+------------+----------------+\n",
      "|               Aruba|         ABW|            null|\n",
      "|         Afghanistan|         AFG|19469022207.6852|\n",
      "|              Angola|         AGO|95337203468.1156|\n",
      "|             Albania|         ALB|11883682170.8236|\n",
      "|             Andorra|         AND|2877311946.90265|\n",
      "|          Arab World|         ARB|2500164034395.78|\n",
      "|United Arab Emirates|         ARE|357045064669.843|\n",
      "|           Argentina|         ARG| 554860945013.62|\n",
      "|             Armenia|         ARM| 10546135160.031|\n",
      "|      American Samoa|         ASM|       658000000|\n",
      "| Antigua and Barbuda|         ATG| 1460144703.7037|\n",
      "|           Australia|         AUS|1208039015868.39|\n",
      "|             Austria|         AUT|390799991147.468|\n",
      "|          Azerbaijan|         AZE|37867518957.1975|\n",
      "|             Burundi|         BDI| 3007029030.4001|\n",
      "|             Belgium|         BEL|467545548764.571|\n",
      "|               Benin|         BEN|8573159696.61128|\n",
      "|        Burkina Faso|         BFA|11448781714.3131|\n",
      "|          Bangladesh|         BGD|221415162445.648|\n",
      "|            Bulgaria|         BGR|53240893665.1584|\n",
      "+--------------------+------------+----------------+\n",
      "only showing top 20 rows\n",
      "\n"
     ]
    }
   ],
   "source": [
    "gdp.show()"
   ]
  },
  {
   "cell_type": "markdown",
   "metadata": {},
   "source": [
    "Same goes for the life expectancy:"
   ]
  },
  {
   "cell_type": "code",
   "execution_count": 9,
   "metadata": {},
   "outputs": [],
   "source": [
    "le = spark.read.option(\"header\", \"true\").csv(data_folder + 'LE.csv').select('Country Name', 'Country Code', '2016').withColumnRenamed('Country Name', 'countries_en')"
   ]
  },
  {
   "cell_type": "code",
   "execution_count": 10,
   "metadata": {},
   "outputs": [
    {
     "data": {
      "text/plain": [
       "[('countries_en', 'string'), ('Country Code', 'string'), ('2016', 'string')]"
      ]
     },
     "execution_count": 10,
     "metadata": {},
     "output_type": "execute_result"
    }
   ],
   "source": [
    "le.dtypes"
   ]
  },
  {
   "cell_type": "code",
   "execution_count": 11,
   "metadata": {},
   "outputs": [
    {
     "name": "stdout",
     "output_type": "stream",
     "text": [
      "+--------------------+------------+---------------+\n",
      "|        countries_en|Country Code|           2016|\n",
      "+--------------------+------------+---------------+\n",
      "|               Aruba|         ABW|         75.867|\n",
      "|         Afghanistan|         AFG|         63.673|\n",
      "|              Angola|         AGO|         61.547|\n",
      "|             Albania|         ALB|         78.345|\n",
      "|             Andorra|         AND|           null|\n",
      "|          Arab World|         ARB|71.198456370659|\n",
      "|United Arab Emirates|         ARE|         77.256|\n",
      "|           Argentina|         ARG|         76.577|\n",
      "|             Armenia|         ARM|         74.618|\n",
      "|      American Samoa|         ASM|           null|\n",
      "+--------------------+------------+---------------+\n",
      "only showing top 10 rows\n",
      "\n"
     ]
    }
   ],
   "source": [
    "le.show(10)"
   ]
  },
  {
   "cell_type": "markdown",
   "metadata": {},
   "source": [
    "# Cleaning the data"
   ]
  },
  {
   "cell_type": "markdown",
   "metadata": {},
   "source": [
    "## Open Food Facts dataset"
   ]
  },
  {
   "cell_type": "markdown",
   "metadata": {},
   "source": [
    "## Countries"
   ]
  },
  {
   "cell_type": "code",
   "execution_count": 12,
   "metadata": {},
   "outputs": [],
   "source": [
    "data_countries = data.filter(data.countries_en != \"\")"
   ]
  },
  {
   "cell_type": "code",
   "execution_count": 13,
   "metadata": {},
   "outputs": [],
   "source": [
    "col_split = F.split(data_countries['countries_en'], ',')"
   ]
  },
  {
   "cell_type": "code",
   "execution_count": 14,
   "metadata": {},
   "outputs": [],
   "source": [
    "data_countries = data_countries.withColumn('countries_en', F.explode(col_split))"
   ]
  },
  {
   "cell_type": "code",
   "execution_count": 15,
   "metadata": {},
   "outputs": [
    {
     "name": "stdout",
     "output_type": "stream",
     "text": [
      "+--------------------+\n",
      "|        countries_en|\n",
      "+--------------------+\n",
      "|       Côte d'Ivoire|\n",
      "|                Chad|\n",
      "|            Anguilla|\n",
      "|              Russia|\n",
      "|            Paraguay|\n",
      "|Virgin Islands of...|\n",
      "|               World|\n",
      "|               Yemen|\n",
      "|British Indian Oc...|\n",
      "|             Senegal|\n",
      "|              Sweden|\n",
      "|              Guyana|\n",
      "|         Philippines|\n",
      "|            Djibouti|\n",
      "|           Singapore|\n",
      "|            Malaysia|\n",
      "|fr:republica-moldova|\n",
      "|        ch:allemagne|\n",
      "|                Fiji|\n",
      "|              Turkey|\n",
      "|           fr:nantes|\n",
      "|Nutrition facts c...|\n",
      "|              Malawi|\n",
      "|                Iraq|\n",
      "|           fr:tahiti|\n",
      "|             Germany|\n",
      "|                  En|\n",
      "|            Cambodia|\n",
      "|     To be completed|\n",
      "|         Afghanistan|\n",
      "|            de:grece|\n",
      "|              Jordan|\n",
      "|              Rwanda|\n",
      "|            Maldives|\n",
      "|    Photos validated|\n",
      "|          ch:schweiz|\n",
      "|              France|\n",
      "|            de:japon|\n",
      "|              Greece|\n",
      "|     Photos uploaded|\n",
      "|Packaging to be c...|\n",
      "|            Complete|\n",
      "|              Kosovo|\n",
      "|        it:allemagne|\n",
      "|Ingredients compl...|\n",
      "| Packaging completed|\n",
      "|           Sri Lanka|\n",
      "|          Montserrat|\n",
      "|              Taiwan|\n",
      "|            Dominica|\n",
      "|                Togo|\n",
      "|             Algeria|\n",
      "|   Equatorial Guinea|\n",
      "|         Other-japon|\n",
      "|            Slovakia|\n",
      "|               Macau|\n",
      "|           Argentina|\n",
      "|             Belgium|\n",
      "|Photos to be uplo...|\n",
      "|              Angola|\n",
      "|               Qatar|\n",
      "|             Ecuador|\n",
      "|             Albania|\n",
      "|          Madagascar|\n",
      "|             Finland|\n",
      "|           Allemagne|\n",
      "|       New Caledonia|\n",
      "|            Other-日本|\n",
      "|Ingredients to be...|\n",
      "|           Nicaragua|\n",
      "|             Myanmar|\n",
      "|          fr:ungaria|\n",
      "|               Ghana|\n",
      "|                Peru|\n",
      "|        Sierra Leone|\n",
      "|               Benin|\n",
      "|       United States|\n",
      "|               China|\n",
      "|               India|\n",
      "|             Belarus|\n",
      "|              Kuwait|\n",
      "|               Malta|\n",
      "|         Timor-Leste|\n",
      "|Quantity to be co...|\n",
      "|             Somalia|\n",
      "|               Chile|\n",
      "|         Puerto Rico|\n",
      "|       it:frankreich|\n",
      "|          Tajikistan|\n",
      "|          Martinique|\n",
      "|        Soviet Union|\n",
      "|         Isle of Man|\n",
      "|             Croatia|\n",
      "|        Other-العراق|\n",
      "|             Burundi|\n",
      "|             Nigeria|\n",
      "|             Andorra|\n",
      "|             Bolivia|\n",
      "|Palestinian terri...|\n",
      "|               Gabon|\n",
      "|               Italy|\n",
      "|            Suriname|\n",
      "|             Réunion|\n",
      "|           Lithuania|\n",
      "|              Norway|\n",
      "|               Spain|\n",
      "|Saint Pierre and ...|\n",
      "|                Cuba|\n",
      "|          Mauritania|\n",
      "|      ch:deutschland|\n",
      "|          Guadeloupe|\n",
      "|          fr:schweiz|\n",
      "|         de:belgique|\n",
      "|           ch:suisse|\n",
      "|               Niger|\n",
      "|             Denmark|\n",
      "|Central African R...|\n",
      "|            Barbados|\n",
      "|          Bangladesh|\n",
      "|           de:serbie|\n",
      "|                Iran|\n",
      "|             Curaçao|\n",
      "|United-states-of-...|\n",
      "|          it:espagne|\n",
      "|             Ireland|\n",
      "|           sq:kosovo|\n",
      "|       Liechtenstein|\n",
      "|            Thailand|\n",
      "|                Laos|\n",
      "|           Swaziland|\n",
      "|Democratic Republ...|\n",
      "|             Morocco|\n",
      "|              Monaco|\n",
      "|              Panama|\n",
      "|          Cape Verde|\n",
      "|           Hong Kong|\n",
      "|      European Union|\n",
      "|           Venezuela|\n",
      "|             Ukraine|\n",
      "|              Israel|\n",
      "|             Iceland|\n",
      "|Saint Kitts and N...|\n",
      "|                Oman|\n",
      "|    French Polynesia|\n",
      "|         South Korea|\n",
      "|  Quantity completed|\n",
      "|              Cyprus|\n",
      "|           Gibraltar|\n",
      "|Packaging-code-co...|\n",
      "|             Uruguay|\n",
      "|      fr:deutschland|\n",
      "|              Mexico|\n",
      "|               Aruba|\n",
      "|    fr:quebec-canada|\n",
      "|             Estonia|\n",
      "|             Georgia|\n",
      "|          Montenegro|\n",
      "|           Indonesia|\n",
      "|         The Bahamas|\n",
      "|           Guatemala|\n",
      "|            Mongolia|\n",
      "|Republic of Maced...|\n",
      "|Republic of the C...|\n",
      "|               Libya|\n",
      "|          Azerbaijan|\n",
      "|        Sint Maarten|\n",
      "|             Armenia|\n",
      "|             Tunisia|\n",
      "|            Honduras|\n",
      "|               Syria|\n",
      "| Trinidad and Tobago|\n",
      "|        Saudi Arabia|\n",
      "|   Wallis and Futuna|\n",
      "|       French Guiana|\n",
      "|             Mayotte|\n",
      "|             Namibia|\n",
      "|         Switzerland|\n",
      "|            Ethiopia|\n",
      "|             Jamaica|\n",
      "|              Latvia|\n",
      "|       To be checked|\n",
      "|United Arab Emirates|\n",
      "|Characteristics c...|\n",
      "|              Brunei|\n",
      "|    Republika Srpska|\n",
      "|         Saint Lucia|\n",
      "|        Saint Martin|\n",
      "|          La-reunion|\n",
      "|              Guinea|\n",
      "|              Canada|\n",
      "|          Seychelles|\n",
      "|      it:deutschland|\n",
      "|          Kyrgyzstan|\n",
      "|          Uzbekistan|\n",
      "|      Czech Republic|\n",
      "|Expiration date c...|\n",
      "|          Mozambique|\n",
      "|        Cook Islands|\n",
      "|              Brazil|\n",
      "|          ch:mexique|\n",
      "|               Kenya|\n",
      "|             Lebanon|\n",
      "|Product name comp...|\n",
      "|            Valencia|\n",
      "|            Slovenia|\n",
      "| Antigua and Barbuda|\n",
      "|  Dominican Republic|\n",
      "|Characteristics t...|\n",
      "|               Japan|\n",
      "|            Tanzania|\n",
      "|           de:russie|\n",
      "|                Asia|\n",
      "|       fr:frankreich|\n",
      "|          Luxembourg|\n",
      "|         New Zealand|\n",
      "|    Brands completed|\n",
      "|          de:espagne|\n",
      "|Bosnia and Herzeg...|\n",
      "|               Haiti|\n",
      "|              Poland|\n",
      "|            Portugal|\n",
      "|Photos to be vali...|\n",
      "|           Australia|\n",
      "|            Cameroon|\n",
      "|             Romania|\n",
      "|            Bulgaria|\n",
      "|             Austria|\n",
      "|               Nepal|\n",
      "|        de:allemagne|\n",
      "|Expiration date t...|\n",
      "|               Egypt|\n",
      "|          Costa Rica|\n",
      "|         El Salvador|\n",
      "|          Kazakhstan|\n",
      "|Categories completed|\n",
      "|              Serbia|\n",
      "|        South Africa|\n",
      "|        Burkina Faso|\n",
      "|             Bahrain|\n",
      "|            Colombia|\n",
      "|Nutrition facts t...|\n",
      "|             Hungary|\n",
      "|            Pakistan|\n",
      "|             Vanuatu|\n",
      "|           Mauritius|\n",
      "|      United Kingdom|\n",
      "|             Moldova|\n",
      "|               fr:en|\n",
      "|          fr:dom-tom|\n",
      "|             Vietnam|\n",
      "|         Netherlands|\n",
      "|                Mali|\n",
      "|       Åland Islands|\n",
      "|           fr:quebec|\n",
      "+--------------------+\n",
      "\n"
     ]
    }
   ],
   "source": [
    "data_countries.select('countries_en').distinct().show(500)"
   ]
  },
  {
   "cell_type": "markdown",
   "metadata": {},
   "source": [
    "Some of the entires are still invalid because they are written in another languages, we decided to not count them. Since we already have a list of countries, we are going to use them to keep only the valid entries."
   ]
  },
  {
   "cell_type": "code",
   "execution_count": 16,
   "metadata": {},
   "outputs": [],
   "source": [
    "joined = data_countries.join(gdp, 'countries_en', how='inner').drop('Country Code', '2016')"
   ]
  },
  {
   "cell_type": "code",
   "execution_count": 26,
   "metadata": {},
   "outputs": [
    {
     "data": {
      "text/plain": [
       "45504"
      ]
     },
     "execution_count": 26,
     "metadata": {},
     "output_type": "execute_result"
    }
   ],
   "source": [
    "joined.filter(data.origins != \"\").count()"
   ]
  },
  {
   "cell_type": "code",
   "execution_count": 31,
   "metadata": {},
   "outputs": [],
   "source": [
    "origins = joined.join(gdp, joined.origins.isin(gdp.countries_en), how='inner')"
   ]
  },
  {
   "cell_type": "code",
   "execution_count": 33,
   "metadata": {},
   "outputs": [
    {
     "data": {
      "text/plain": [
       "15203"
      ]
     },
     "execution_count": 33,
     "metadata": {},
     "output_type": "execute_result"
    }
   ],
   "source": [
    "origins.count()"
   ]
  },
  {
   "cell_type": "code",
   "execution_count": 34,
   "metadata": {},
   "outputs": [],
   "source": [
    "or_pd = origins.toPandas()"
   ]
  },
  {
   "cell_type": "code",
   "execution_count": null,
   "metadata": {},
   "outputs": [],
   "source": [
    "or_pd.origins.hist()"
   ]
  },
  {
   "cell_type": "code",
   "execution_count": null,
   "metadata": {},
   "outputs": [],
   "source": []
  }
 ],
 "metadata": {
  "kernelspec": {
   "display_name": "Python [default]",
   "language": "python",
   "name": "python3"
  },
  "language_info": {
   "codemirror_mode": {
    "name": "ipython",
    "version": 3
   },
   "file_extension": ".py",
   "mimetype": "text/x-python",
   "name": "python",
   "nbconvert_exporter": "python",
   "pygments_lexer": "ipython3",
   "version": "3.7.0"
  }
 },
 "nbformat": 4,
 "nbformat_minor": 2
}
