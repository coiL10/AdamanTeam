{
 "cells": [
  {
   "cell_type": "markdown",
   "metadata": {},
   "source": [
    "## Milestone 2\n",
    "Dataset: Open Food Facts"
   ]
  },
  {
   "cell_type": "markdown",
   "metadata": {},
   "source": [
    "The dataset is downloaded and stored in the /data folder"
   ]
  },
  {
   "cell_type": "markdown",
   "metadata": {},
   "source": [
    "When describing the data, in particular, you should show (non-exhaustive list):\n",
    "\n",
    "- That you can handle the data in its size.\n",
    "- That you understand what’s into the data (formats, distributions, missing values, correlations, etc.).\n",
    "- That you considered ways to enrich, filter, transform the data according to your needs.\n",
    "- That you have updated your plan in a reasonable way, reflecting your improved knowledge after data acquaintance. In particular, discuss how your data suits your project needs and discuss the methods you’re going to use, giving their essential mathematical details in the notebook.\n",
    "- That your plan for analysis and communication is now reasonable and sound, potentially discussing alternatives to your choices that you considered but dropped.\n"
   ]
  },
  {
   "cell_type": "code",
   "execution_count": 1,
   "metadata": {},
   "outputs": [],
   "source": [
    "import pandas as pd\n",
    "import numpy as np\n",
    "import scipy as sp\n",
    "\n",
    "'''\n",
    "import findspark\n",
    "findspark.init()\n",
    "\n",
    "from pyspark.sql import *\n",
    "from pyspark.sql import functions as F\n",
    "from pyspark import SparkContext\n",
    "\n",
    "spark = SparkSession.builder.getOrCreate()\n",
    "sc = spark.sparkContext''';"
   ]
  },
  {
   "cell_type": "code",
   "execution_count": 2,
   "metadata": {},
   "outputs": [],
   "source": [
    "data_folder = './data/'"
   ]
  },
  {
   "cell_type": "markdown",
   "metadata": {},
   "source": [
    "# Loading the data"
   ]
  },
  {
   "cell_type": "markdown",
   "metadata": {},
   "source": [
    "## Open Food Facts dataset"
   ]
  },
  {
   "cell_type": "markdown",
   "metadata": {},
   "source": [
    "The data is in the CSV file format and can be downloaded on the Openfoodfacts website. Its size is 1.6 GB and we first decided for this milestone to download and load it using spark, as we were not sure if Pandas could handle a file of this size but as we quickly realized it was working smoothly so we will use Pandas to manipulate the data."
   ]
  },
  {
   "cell_type": "code",
   "execution_count": 3,
   "metadata": {},
   "outputs": [],
   "source": [
    "#data = spark.read.option(\"delimiter\", \"\\t\").option(\"header\", \"true\").csv(data_folder + \"en.openfoodfacts.org.products.csv\")\n",
    "data = pd.read_csv(data_folder + 'en.openfoodfacts.org.products.csv', sep='\\t', encoding='utf-8', low_memory=False)"
   ]
  },
  {
   "cell_type": "code",
   "execution_count": 6,
   "metadata": {},
   "outputs": [
    {
     "data": {
      "text/html": [
       "<div>\n",
       "<style scoped>\n",
       "    .dataframe tbody tr th:only-of-type {\n",
       "        vertical-align: middle;\n",
       "    }\n",
       "\n",
       "    .dataframe tbody tr th {\n",
       "        vertical-align: top;\n",
       "    }\n",
       "\n",
       "    .dataframe thead th {\n",
       "        text-align: right;\n",
       "    }\n",
       "</style>\n",
       "<table border=\"1\" class=\"dataframe\">\n",
       "  <thead>\n",
       "    <tr style=\"text-align: right;\">\n",
       "      <th></th>\n",
       "      <th>code</th>\n",
       "      <th>url</th>\n",
       "      <th>creator</th>\n",
       "      <th>created_t</th>\n",
       "      <th>created_datetime</th>\n",
       "      <th>last_modified_t</th>\n",
       "      <th>last_modified_datetime</th>\n",
       "      <th>product_name</th>\n",
       "      <th>generic_name</th>\n",
       "      <th>quantity</th>\n",
       "      <th>...</th>\n",
       "      <th>carbon-footprint_100g</th>\n",
       "      <th>nutrition-score-fr_100g</th>\n",
       "      <th>nutrition-score-uk_100g</th>\n",
       "      <th>glycemic-index_100g</th>\n",
       "      <th>water-hardness_100g</th>\n",
       "      <th>choline_100g</th>\n",
       "      <th>phylloquinone_100g</th>\n",
       "      <th>beta-glucan_100g</th>\n",
       "      <th>inositol_100g</th>\n",
       "      <th>carnitine_100g</th>\n",
       "    </tr>\n",
       "  </thead>\n",
       "  <tbody>\n",
       "    <tr>\n",
       "      <th>0</th>\n",
       "      <td>0000000000017</td>\n",
       "      <td>http://world-en.openfoodfacts.org/product/0000...</td>\n",
       "      <td>kiliweb</td>\n",
       "      <td>1529059080</td>\n",
       "      <td>2018-06-15T10:38:00Z</td>\n",
       "      <td>1529059204</td>\n",
       "      <td>2018-06-15T10:40:04Z</td>\n",
       "      <td>Vitória crackers</td>\n",
       "      <td>NaN</td>\n",
       "      <td>NaN</td>\n",
       "      <td>...</td>\n",
       "      <td>NaN</td>\n",
       "      <td>NaN</td>\n",
       "      <td>NaN</td>\n",
       "      <td>NaN</td>\n",
       "      <td>NaN</td>\n",
       "      <td>NaN</td>\n",
       "      <td>NaN</td>\n",
       "      <td>NaN</td>\n",
       "      <td>NaN</td>\n",
       "      <td>NaN</td>\n",
       "    </tr>\n",
       "    <tr>\n",
       "      <th>1</th>\n",
       "      <td>0000000000031</td>\n",
       "      <td>http://world-en.openfoodfacts.org/product/0000...</td>\n",
       "      <td>isagoofy</td>\n",
       "      <td>1539464774</td>\n",
       "      <td>2018-10-13T21:06:14Z</td>\n",
       "      <td>1539464817</td>\n",
       "      <td>2018-10-13T21:06:57Z</td>\n",
       "      <td>Cacao</td>\n",
       "      <td>NaN</td>\n",
       "      <td>130 g</td>\n",
       "      <td>...</td>\n",
       "      <td>NaN</td>\n",
       "      <td>NaN</td>\n",
       "      <td>NaN</td>\n",
       "      <td>NaN</td>\n",
       "      <td>NaN</td>\n",
       "      <td>NaN</td>\n",
       "      <td>NaN</td>\n",
       "      <td>NaN</td>\n",
       "      <td>NaN</td>\n",
       "      <td>NaN</td>\n",
       "    </tr>\n",
       "    <tr>\n",
       "      <th>2</th>\n",
       "      <td>0000000000123</td>\n",
       "      <td>http://world-en.openfoodfacts.org/product/0000...</td>\n",
       "      <td>kiliweb</td>\n",
       "      <td>1535737982</td>\n",
       "      <td>2018-08-31T17:53:02Z</td>\n",
       "      <td>1535737986</td>\n",
       "      <td>2018-08-31T17:53:06Z</td>\n",
       "      <td>Sauce Sweety chili 0%</td>\n",
       "      <td>NaN</td>\n",
       "      <td>NaN</td>\n",
       "      <td>...</td>\n",
       "      <td>NaN</td>\n",
       "      <td>NaN</td>\n",
       "      <td>NaN</td>\n",
       "      <td>NaN</td>\n",
       "      <td>NaN</td>\n",
       "      <td>NaN</td>\n",
       "      <td>NaN</td>\n",
       "      <td>NaN</td>\n",
       "      <td>NaN</td>\n",
       "      <td>NaN</td>\n",
       "    </tr>\n",
       "    <tr>\n",
       "      <th>3</th>\n",
       "      <td>0000000000178</td>\n",
       "      <td>http://world-en.openfoodfacts.org/product/0000...</td>\n",
       "      <td>kiliweb</td>\n",
       "      <td>1542456332</td>\n",
       "      <td>2018-11-17T12:05:32Z</td>\n",
       "      <td>1542456333</td>\n",
       "      <td>2018-11-17T12:05:33Z</td>\n",
       "      <td>Mini coco</td>\n",
       "      <td>NaN</td>\n",
       "      <td>NaN</td>\n",
       "      <td>...</td>\n",
       "      <td>NaN</td>\n",
       "      <td>NaN</td>\n",
       "      <td>NaN</td>\n",
       "      <td>NaN</td>\n",
       "      <td>NaN</td>\n",
       "      <td>NaN</td>\n",
       "      <td>NaN</td>\n",
       "      <td>NaN</td>\n",
       "      <td>NaN</td>\n",
       "      <td>NaN</td>\n",
       "    </tr>\n",
       "    <tr>\n",
       "      <th>4</th>\n",
       "      <td>0000000000291</td>\n",
       "      <td>http://world-en.openfoodfacts.org/product/0000...</td>\n",
       "      <td>kiliweb</td>\n",
       "      <td>1534239669</td>\n",
       "      <td>2018-08-14T09:41:09Z</td>\n",
       "      <td>1534239732</td>\n",
       "      <td>2018-08-14T09:42:12Z</td>\n",
       "      <td>Mendiants</td>\n",
       "      <td>NaN</td>\n",
       "      <td>NaN</td>\n",
       "      <td>...</td>\n",
       "      <td>NaN</td>\n",
       "      <td>NaN</td>\n",
       "      <td>NaN</td>\n",
       "      <td>NaN</td>\n",
       "      <td>NaN</td>\n",
       "      <td>NaN</td>\n",
       "      <td>NaN</td>\n",
       "      <td>NaN</td>\n",
       "      <td>NaN</td>\n",
       "      <td>NaN</td>\n",
       "    </tr>\n",
       "  </tbody>\n",
       "</table>\n",
       "<p>5 rows × 173 columns</p>\n",
       "</div>"
      ],
      "text/plain": [
       "            code                                                url   creator  \\\n",
       "0  0000000000017  http://world-en.openfoodfacts.org/product/0000...   kiliweb   \n",
       "1  0000000000031  http://world-en.openfoodfacts.org/product/0000...  isagoofy   \n",
       "2  0000000000123  http://world-en.openfoodfacts.org/product/0000...   kiliweb   \n",
       "3  0000000000178  http://world-en.openfoodfacts.org/product/0000...   kiliweb   \n",
       "4  0000000000291  http://world-en.openfoodfacts.org/product/0000...   kiliweb   \n",
       "\n",
       "    created_t      created_datetime last_modified_t last_modified_datetime  \\\n",
       "0  1529059080  2018-06-15T10:38:00Z      1529059204   2018-06-15T10:40:04Z   \n",
       "1  1539464774  2018-10-13T21:06:14Z      1539464817   2018-10-13T21:06:57Z   \n",
       "2  1535737982  2018-08-31T17:53:02Z      1535737986   2018-08-31T17:53:06Z   \n",
       "3  1542456332  2018-11-17T12:05:32Z      1542456333   2018-11-17T12:05:33Z   \n",
       "4  1534239669  2018-08-14T09:41:09Z      1534239732   2018-08-14T09:42:12Z   \n",
       "\n",
       "            product_name generic_name quantity      ...        \\\n",
       "0       Vitória crackers          NaN      NaN      ...         \n",
       "1                  Cacao          NaN    130 g      ...         \n",
       "2  Sauce Sweety chili 0%          NaN      NaN      ...         \n",
       "3              Mini coco          NaN      NaN      ...         \n",
       "4              Mendiants          NaN      NaN      ...         \n",
       "\n",
       "  carbon-footprint_100g nutrition-score-fr_100g nutrition-score-uk_100g  \\\n",
       "0                   NaN                     NaN                     NaN   \n",
       "1                   NaN                     NaN                     NaN   \n",
       "2                   NaN                     NaN                     NaN   \n",
       "3                   NaN                     NaN                     NaN   \n",
       "4                   NaN                     NaN                     NaN   \n",
       "\n",
       "  glycemic-index_100g water-hardness_100g choline_100g phylloquinone_100g  \\\n",
       "0                 NaN                 NaN          NaN                NaN   \n",
       "1                 NaN                 NaN          NaN                NaN   \n",
       "2                 NaN                 NaN          NaN                NaN   \n",
       "3                 NaN                 NaN          NaN                NaN   \n",
       "4                 NaN                 NaN          NaN                NaN   \n",
       "\n",
       "  beta-glucan_100g inositol_100g carnitine_100g  \n",
       "0              NaN           NaN            NaN  \n",
       "1              NaN           NaN            NaN  \n",
       "2              NaN           NaN            NaN  \n",
       "3              NaN           NaN            NaN  \n",
       "4              NaN           NaN            NaN  \n",
       "\n",
       "[5 rows x 173 columns]"
      ]
     },
     "execution_count": 6,
     "metadata": {},
     "output_type": "execute_result"
    }
   ],
   "source": [
    "data.head()"
   ]
  },
  {
   "cell_type": "markdown",
   "metadata": {},
   "source": [
    "We see that we have a lot of columns (173), not all of them will be useful for our project so we will select the most interesting ones and drop all the others to avoid keeping unused data for computations. We first chose to remove the columns related to subjects not related to our project for better readability like ingredients concentration per product, images, related to palm_oil..."
   ]
  },
  {
   "cell_type": "code",
   "execution_count": 45,
   "metadata": {},
   "outputs": [
    {
     "name": "stdout",
     "output_type": "stream",
     "text": [
      "Pretty printing has been turned OFF\n"
     ]
    },
    {
     "data": {
      "text/plain": [
       "['creator', 'created_t', 'created_datetime', 'last_modified_t', 'last_modified_datetime', 'product_name', 'generic_name', 'quantity', 'packaging', 'packaging_tags', 'brands', 'brands_tags', 'categories', 'categories_tags', 'categories_en', 'origins', 'origins_tags', 'manufacturing_places', 'manufacturing_places_tags', 'labels', 'labels_tags', 'labels_en', 'cities', 'cities_tags', 'purchase_places', 'stores', 'countries', 'countries_tags', 'countries_en', 'ingredients_text', 'allergens', 'allergens_en', 'traces', 'traces_tags', 'traces_en', 'serving_size', 'serving_quantity', 'no_nutriments', 'additives_n', 'additives', 'additives_tags', 'additives_en', 'nutrition_grade_uk', 'nutrition_grade_fr', 'pnns_groups_1', 'pnns_groups_2', 'states', 'states_tags', 'states_en', 'main_category', 'main_category_en']"
      ]
     },
     "execution_count": 45,
     "metadata": {},
     "output_type": "execute_result"
    }
   ],
   "source": [
    "%pprint\n",
    "not_related = ['100g', 'image', 'palm_oil', 'code', 'url']\n",
    "columns = [column for column in list(data.columns) if not any(st in column for st in not_related)] \n",
    "columns"
   ]
  },
  {
   "cell_type": "markdown",
   "metadata": {},
   "source": [
    "From the remainings columns we chose the ones that interests us the most. We made our choice first by judging the usefulness of each column in relation to our project and then by regarding in more details if the data in the column was usable."
   ]
  },
  {
   "cell_type": "code",
   "execution_count": 65,
   "metadata": {},
   "outputs": [
    {
     "name": "stdout",
     "output_type": "stream",
     "text": [
      "Pretty printing has been turned ON\n"
     ]
    },
    {
     "data": {
      "text/html": [
       "<div>\n",
       "<style scoped>\n",
       "    .dataframe tbody tr th:only-of-type {\n",
       "        vertical-align: middle;\n",
       "    }\n",
       "\n",
       "    .dataframe tbody tr th {\n",
       "        vertical-align: top;\n",
       "    }\n",
       "\n",
       "    .dataframe thead th {\n",
       "        text-align: right;\n",
       "    }\n",
       "</style>\n",
       "<table border=\"1\" class=\"dataframe\">\n",
       "  <thead>\n",
       "    <tr style=\"text-align: right;\">\n",
       "      <th></th>\n",
       "      <th>product_name</th>\n",
       "      <th>categories</th>\n",
       "      <th>categories_tags</th>\n",
       "      <th>categories_en</th>\n",
       "      <th>origins</th>\n",
       "      <th>origins_tags</th>\n",
       "      <th>manufacturing_places</th>\n",
       "      <th>manufacturing_places_tags</th>\n",
       "      <th>labels</th>\n",
       "      <th>labels_tags</th>\n",
       "      <th>...</th>\n",
       "      <th>countries</th>\n",
       "      <th>countries_tags</th>\n",
       "      <th>countries_en</th>\n",
       "      <th>allergens</th>\n",
       "      <th>nutrition_grade_fr</th>\n",
       "      <th>states</th>\n",
       "      <th>states_tags</th>\n",
       "      <th>states_en</th>\n",
       "      <th>main_category</th>\n",
       "      <th>main_category_en</th>\n",
       "    </tr>\n",
       "  </thead>\n",
       "  <tbody>\n",
       "    <tr>\n",
       "      <th>0</th>\n",
       "      <td>Vitória crackers</td>\n",
       "      <td>NaN</td>\n",
       "      <td>NaN</td>\n",
       "      <td>NaN</td>\n",
       "      <td>NaN</td>\n",
       "      <td>NaN</td>\n",
       "      <td>NaN</td>\n",
       "      <td>NaN</td>\n",
       "      <td>NaN</td>\n",
       "      <td>NaN</td>\n",
       "      <td>...</td>\n",
       "      <td>en:france</td>\n",
       "      <td>en:france</td>\n",
       "      <td>France</td>\n",
       "      <td>NaN</td>\n",
       "      <td>NaN</td>\n",
       "      <td>en:to-be-completed, en:nutrition-facts-complet...</td>\n",
       "      <td>en:to-be-completed,en:nutrition-facts-complete...</td>\n",
       "      <td>To be completed,Nutrition facts completed,Ingr...</td>\n",
       "      <td>NaN</td>\n",
       "      <td>NaN</td>\n",
       "    </tr>\n",
       "    <tr>\n",
       "      <th>1</th>\n",
       "      <td>Cacao</td>\n",
       "      <td>NaN</td>\n",
       "      <td>NaN</td>\n",
       "      <td>NaN</td>\n",
       "      <td>NaN</td>\n",
       "      <td>NaN</td>\n",
       "      <td>NaN</td>\n",
       "      <td>NaN</td>\n",
       "      <td>NaN</td>\n",
       "      <td>NaN</td>\n",
       "      <td>...</td>\n",
       "      <td>en:FR</td>\n",
       "      <td>en:france</td>\n",
       "      <td>France</td>\n",
       "      <td>NaN</td>\n",
       "      <td>NaN</td>\n",
       "      <td>en:to-be-completed, en:nutrition-facts-to-be-c...</td>\n",
       "      <td>en:to-be-completed,en:nutrition-facts-to-be-co...</td>\n",
       "      <td>To be completed,Nutrition facts to be complete...</td>\n",
       "      <td>NaN</td>\n",
       "      <td>NaN</td>\n",
       "    </tr>\n",
       "    <tr>\n",
       "      <th>2</th>\n",
       "      <td>Sauce Sweety chili 0%</td>\n",
       "      <td>NaN</td>\n",
       "      <td>NaN</td>\n",
       "      <td>NaN</td>\n",
       "      <td>NaN</td>\n",
       "      <td>NaN</td>\n",
       "      <td>NaN</td>\n",
       "      <td>NaN</td>\n",
       "      <td>NaN</td>\n",
       "      <td>NaN</td>\n",
       "      <td>...</td>\n",
       "      <td>en:france</td>\n",
       "      <td>en:france</td>\n",
       "      <td>France</td>\n",
       "      <td>NaN</td>\n",
       "      <td>NaN</td>\n",
       "      <td>en:to-be-completed, en:nutrition-facts-complet...</td>\n",
       "      <td>en:to-be-completed,en:nutrition-facts-complete...</td>\n",
       "      <td>To be completed,Nutrition facts completed,Ingr...</td>\n",
       "      <td>NaN</td>\n",
       "      <td>NaN</td>\n",
       "    </tr>\n",
       "    <tr>\n",
       "      <th>3</th>\n",
       "      <td>Mini coco</td>\n",
       "      <td>NaN</td>\n",
       "      <td>NaN</td>\n",
       "      <td>NaN</td>\n",
       "      <td>NaN</td>\n",
       "      <td>NaN</td>\n",
       "      <td>NaN</td>\n",
       "      <td>NaN</td>\n",
       "      <td>NaN</td>\n",
       "      <td>NaN</td>\n",
       "      <td>...</td>\n",
       "      <td>en:france</td>\n",
       "      <td>en:france</td>\n",
       "      <td>France</td>\n",
       "      <td>NaN</td>\n",
       "      <td>NaN</td>\n",
       "      <td>en:to-be-completed, en:nutrition-facts-complet...</td>\n",
       "      <td>en:to-be-completed,en:nutrition-facts-complete...</td>\n",
       "      <td>To be completed,Nutrition facts completed,Ingr...</td>\n",
       "      <td>NaN</td>\n",
       "      <td>NaN</td>\n",
       "    </tr>\n",
       "    <tr>\n",
       "      <th>4</th>\n",
       "      <td>Mendiants</td>\n",
       "      <td>NaN</td>\n",
       "      <td>NaN</td>\n",
       "      <td>NaN</td>\n",
       "      <td>NaN</td>\n",
       "      <td>NaN</td>\n",
       "      <td>NaN</td>\n",
       "      <td>NaN</td>\n",
       "      <td>NaN</td>\n",
       "      <td>NaN</td>\n",
       "      <td>...</td>\n",
       "      <td>en:france</td>\n",
       "      <td>en:france</td>\n",
       "      <td>France</td>\n",
       "      <td>NaN</td>\n",
       "      <td>NaN</td>\n",
       "      <td>en:to-be-completed, en:nutrition-facts-to-be-c...</td>\n",
       "      <td>en:to-be-completed,en:nutrition-facts-to-be-co...</td>\n",
       "      <td>To be completed,Nutrition facts to be complete...</td>\n",
       "      <td>NaN</td>\n",
       "      <td>NaN</td>\n",
       "    </tr>\n",
       "  </tbody>\n",
       "</table>\n",
       "<p>5 rows × 22 columns</p>\n",
       "</div>"
      ],
      "text/plain": [
       "            product_name categories categories_tags categories_en origins  \\\n",
       "0       Vitória crackers        NaN             NaN           NaN     NaN   \n",
       "1                  Cacao        NaN             NaN           NaN     NaN   \n",
       "2  Sauce Sweety chili 0%        NaN             NaN           NaN     NaN   \n",
       "3              Mini coco        NaN             NaN           NaN     NaN   \n",
       "4              Mendiants        NaN             NaN           NaN     NaN   \n",
       "\n",
       "  origins_tags manufacturing_places manufacturing_places_tags labels  \\\n",
       "0          NaN                  NaN                       NaN    NaN   \n",
       "1          NaN                  NaN                       NaN    NaN   \n",
       "2          NaN                  NaN                       NaN    NaN   \n",
       "3          NaN                  NaN                       NaN    NaN   \n",
       "4          NaN                  NaN                       NaN    NaN   \n",
       "\n",
       "  labels_tags       ...         countries countries_tags countries_en  \\\n",
       "0         NaN       ...         en:france      en:france       France   \n",
       "1         NaN       ...             en:FR      en:france       France   \n",
       "2         NaN       ...         en:france      en:france       France   \n",
       "3         NaN       ...         en:france      en:france       France   \n",
       "4         NaN       ...         en:france      en:france       France   \n",
       "\n",
       "  allergens nutrition_grade_fr  \\\n",
       "0       NaN                NaN   \n",
       "1       NaN                NaN   \n",
       "2       NaN                NaN   \n",
       "3       NaN                NaN   \n",
       "4       NaN                NaN   \n",
       "\n",
       "                                              states  \\\n",
       "0  en:to-be-completed, en:nutrition-facts-complet...   \n",
       "1  en:to-be-completed, en:nutrition-facts-to-be-c...   \n",
       "2  en:to-be-completed, en:nutrition-facts-complet...   \n",
       "3  en:to-be-completed, en:nutrition-facts-complet...   \n",
       "4  en:to-be-completed, en:nutrition-facts-to-be-c...   \n",
       "\n",
       "                                         states_tags  \\\n",
       "0  en:to-be-completed,en:nutrition-facts-complete...   \n",
       "1  en:to-be-completed,en:nutrition-facts-to-be-co...   \n",
       "2  en:to-be-completed,en:nutrition-facts-complete...   \n",
       "3  en:to-be-completed,en:nutrition-facts-complete...   \n",
       "4  en:to-be-completed,en:nutrition-facts-to-be-co...   \n",
       "\n",
       "                                           states_en main_category  \\\n",
       "0  To be completed,Nutrition facts completed,Ingr...           NaN   \n",
       "1  To be completed,Nutrition facts to be complete...           NaN   \n",
       "2  To be completed,Nutrition facts completed,Ingr...           NaN   \n",
       "3  To be completed,Nutrition facts completed,Ingr...           NaN   \n",
       "4  To be completed,Nutrition facts to be complete...           NaN   \n",
       "\n",
       "  main_category_en  \n",
       "0              NaN  \n",
       "1              NaN  \n",
       "2              NaN  \n",
       "3              NaN  \n",
       "4              NaN  \n",
       "\n",
       "[5 rows x 22 columns]"
      ]
     },
     "execution_count": 65,
     "metadata": {},
     "output_type": "execute_result"
    }
   ],
   "source": [
    "%pprint\n",
    "#TODO supprimez tous les elements de la liste qui peuvent etre inutiles\n",
    "#ON DROP pas encore les rows NaNs comme on sait pas encore quelles values on va utiliser\n",
    "keep = ['product_name', 'categories','categories_tags','categories_en','origins','origins_tags','manufacturing_places','manufacturing_places_tags','labels','labels_tags','labels_en','cities_tags','countries','countries_tags','countries_en','allergens','nutrition_grade_fr','states','states_tags','states_en','main_category','main_category_en']\n",
    "selected_data = data[keep]\n",
    "selected_data.head()"
   ]
  },
  {
   "cell_type": "markdown",
   "metadata": {},
   "source": [
    "We save this dataframe in a csv file to speed up the loading process in our next runs."
   ]
  },
  {
   "cell_type": "code",
   "execution_count": 59,
   "metadata": {},
   "outputs": [],
   "source": [
    "selected_data.to_csv(data_folder + 'selected_data.csv')\n",
    "#data = pd.read_csv(data_folder + 'en.openfoodfacts.org.products.csv', sep='\\t', encoding='utf-8', low_memory=False)"
   ]
  },
  {
   "cell_type": "markdown",
   "metadata": {},
   "source": [
    "Since there seems to be a lot of null values in the dataset, it can be interesting to take a look at the number of values that we have per remaining selected column."
   ]
  },
  {
   "cell_type": "code",
   "execution_count": 60,
   "metadata": {},
   "outputs": [
    {
     "data": {
      "text/plain": [
       "product_name                 672399\n",
       "categories                   180593\n",
       "categories_tags              180592\n",
       "categories_en                180558\n",
       "origins                       42658\n",
       "origins_tags                  42604\n",
       "manufacturing_places          67510\n",
       "manufacturing_places_tags     67490\n",
       "labels                       102216\n",
       "labels_tags                  102249\n",
       "labels_en                    102249\n",
       "cities_tags                   29723\n",
       "countries                    697880\n",
       "countries_tags               697880\n",
       "countries_en                 697880\n",
       "allergens                     69125\n",
       "nutrition_grade_fr           141605\n",
       "states                       698409\n",
       "states_tags                  698409\n",
       "states_en                    698409\n",
       "main_category                180481\n",
       "main_category_en             180481\n",
       "dtype: int64"
      ]
     },
     "execution_count": 60,
     "metadata": {},
     "output_type": "execute_result"
    }
   ],
   "source": [
    "selected_data.count()"
   ]
  },
  {
   "cell_type": "markdown",
   "metadata": {},
   "source": [
    "- Which countries are the highest exporters and importers and is there a relationship with the GDP?"
   ]
  },
  {
   "cell_type": "markdown",
   "metadata": {},
   "source": [
    "For this one, we're interested in the following tags: `origin`, `manufacturing_places` and `countries`"
   ]
  },
  {
   "cell_type": "code",
   "execution_count": 7,
   "metadata": {},
   "outputs": [
    {
     "name": "stdout",
     "output_type": "stream",
     "text": [
      "There are 42658 products that contains the origins tags\n",
      "There are 67510 products that contains the manufacturing_places tags\n",
      "There are 697880 products that contains the countries tags\n"
     ]
    }
   ],
   "source": [
    "#TODO Supprimer cette case et écrire plutot analyse des value au dessus ?\n",
    "print('There are {} products that contains the origins tags'.format(data.filter(data.origins != \"\").count()))\n",
    "print('There are {} products that contains the manufacturing_places tags'.format(data.filter(data.manufacturing_places != \"\").count()))\n",
    "print('There are {} products that contains the countries tags'.format(data.filter(data.countries != \"\").count()))"
   ]
  },
  {
   "cell_type": "markdown",
   "metadata": {},
   "source": [
    "Here, we are facing our first problem, while the countries have more than enough samples in it (we still need to check the distribution later on), the `origins` and `manufacturing_places` both represent less than 10% of the data. Now, if we check at the actual values of them:"
   ]
  },
  {
   "cell_type": "code",
   "execution_count": 69,
   "metadata": {},
   "outputs": [
    {
     "data": {
      "text/plain": [
       "array([nan, 'France', 'Brossard Québec', 'United Kingdom',\n",
       "       'Brossard,Québec', 'États-Unis', 'France,Avranches', 'Etats-unis',\n",
       "       'Brossars,Québec', 'Thailand', 'Belgien', 'net wt',\n",
       "       'Las Ventas de Retamosa,Toledo (provincia),Castilla-La Mancha,España',\n",
       "       'Saint Yrieix,France', 'Germany',\n",
       "       'France,Limousin,87500,Saint-Yrieux', 'France,87500',\n",
       "       '87500,France', 'sarlat', 'Pays-Bas,Netherlands', 'Royaume-Uni',\n",
       "       'Royaume-Uni,Ecosse', 'Royaume Uni', 'Belgique', 'Ireland',\n",
       "       '87500 Saint Yrieix', 'Écosse,Royaume-Uni', 'Black Sheep Brewery',\n",
       "       'ESTADOS UNIDOS AMERICANOS', 'Vietnam', 'Argentine', 'USA',\n",
       "       '30800 st Gilles', 'Chester, United Kingdom', 'UK',\n",
       "       'Royaume-Uni,Irelande', 'California,USA', 'Italie', 'China',\n",
       "       'Angleterre', 'Switzerland', 'Canada', 'México',\n",
       "       'The Hershey Company', 'Cincinnati', 'United States', 'TAIWAN',\n",
       "       'Taiwan', 'Japon', 'Japan', 'topco',\n",
       "       'San Nicolas de los Garza, Nuevo León', 'SAN FRANCISCO CALIFORNIA',\n",
       "       'Italia', 'Estado de México',\n",
       "       'Avery Island, Luisiana, Estados Unidos', 'Topco', 'france',\n",
       "       'Eden Prairie,Minnesota,USA', 'Denmark', 'Indonesia',\n",
       "       'PT. Sindu Amritha,Jl. sumatera no 26-28,Pasuruan,67114,Indonesia',\n",
       "       'Plymouth,Wisconsin', 'Suisse', 'Purchase,NY,USA', 'NY,USA',\n",
       "       'Estados Unidos de America', 'Mexico', 'Italy', 'MEXICO',\n",
       "       'Ancaster,Ontario', 'Barcelone,Espagne', 'Berkeley,CA,USA',\n",
       "       'Norwalk,CT', 'ESTADOS UNIDOS', 'U.S.A.', 'Luxembourg',\n",
       "       'allemagne', 'Allemagne', 'York,Royaume-Uni,Angleterre',\n",
       "       'Ciudad de México', 'made in uk', 'Portland,  OR,  USA', 'china',\n",
       "       'Estados Unidos de América', 'Spain', 'usa', 'Minneapolis, USA',\n",
       "       'Minneapolis,MN,USA', 'Estado Unidos de América',\n",
       "       'île de Mull,Écosse,Royaume-Uni', 'Thaïlande,Thailand',\n",
       "       'Thaïlande', 'Thailande', 'Thailand,Thaïlande',\n",
       "       'Thai Agri Foods Public Company Limited,155/1 Moo 1,Theparak Rd,Samutprakarn,10540,Thailand',\n",
       "       'Holland', 'Israel', 'saint yrieix', 'Californie'], dtype=object)"
      ]
     },
     "execution_count": 69,
     "metadata": {},
     "output_type": "execute_result"
    }
   ],
   "source": [
    "selected_data.manufacturing_places.unique()[:100]"
   ]
  },
  {
   "cell_type": "code",
   "execution_count": 70,
   "metadata": {},
   "outputs": [
    {
     "data": {
      "text/plain": [
       "array([nan, 'France', 'Québec', 'Québec,Canada', 'United Kingdom',\n",
       "       'Germany', 'UE', 'Canada', 'México', 'Grande Bretagne',\n",
       "       'ESTADOS UNIDOS AMERICANOS', 'Royaume-Uni', 'Vietnam', 'Argentine',\n",
       "       '?', 'brazil', 'England', 'Europe,Royaume-Uni',\n",
       "       'Easter Grangemuir Farm,Pittenweem,Fife,KY10 2RB,Scotland,United Kingdom',\n",
       "       'Royaume-Uni,Hors Royaume-Uni', 'perou', 'Italie', 'tibet',\n",
       "       'Espagne,Royaume-Uni', 'United States', 'Madagascar', 'TAIWAN',\n",
       "       'Japon', 'USA', 'Estados Unidos', 'CALIFORNIA', 'Estero',\n",
       "       'Atlantique Nord-Ouest,Canada', 'Estados unidos', 'Suisse',\n",
       "       'Saudi', 'Estados Unidos de América', 'Britain,British Chicken',\n",
       "       'Italy', 'Francia', 'Fougerolles,France', 'MEXICO', 'mexico',\n",
       "       'Ancaster,Ontario,canada', 'Scotland', 'Royaume-Uni,West Sussex',\n",
       "       'Malaisie', 'Washington,USA', 'ESTADOS UNIDOS', 'E.U.A',\n",
       "       'Etats-Unis', 'Californie,Etats-Unis', 'New Zealand',\n",
       "       'Sicile,Italie', 'indéterminé', 'États-Unis', 'usa',\n",
       "       'Estado Unidos de América', 'Thaïlande', 'Thailande', 'Thailand',\n",
       "       'Thailand,Thaïlande', 'Chile', 'more than one country',\n",
       "       'California,USA', 'Costa Rica', 'UK', 'Grande-Bretagne',\n",
       "       'Royaume-Uni,Union Européenne', 'China,Kenya', 'Ciudad de México',\n",
       "       'EUA', 'Pays-Bas,Royaume-Uni', 'Toledo,Ohio,United States',\n",
       "       'Ohio,USA', 'Ardèche,France',\n",
       "       'Colombia,India,Philippines,Sri Lanka', 'Filipinas',\n",
       "       'Surrey,United Kingdom', 'USA,Canada,Argentina', 'Kenya',\n",
       "       'Afrique du Sud', 'Kenia', 'États-unis', 'Greece', 'China',\n",
       "       'Ecuador', 'California', 'Made in USA with California produce',\n",
       "       'États-Unis, Brésil, Mexique', 'Écosse,Royaume-Uni',\n",
       "       'Union européenne', 'Taiwan,Imported Unknown', 'Taiwan',\n",
       "       'Alaska,É.U.-A', 'LOS ANGELES CALIFORNIA', 'Pérou pp', 'Usa',\n",
       "       'Plano,Texas,USA', 'Mexico'], dtype=object)"
      ]
     },
     "execution_count": 70,
     "metadata": {},
     "output_type": "execute_result"
    }
   ],
   "source": [
    "selected_data.origins.unique()[:100]"
   ]
  },
  {
   "cell_type": "code",
   "execution_count": 105,
   "metadata": {},
   "outputs": [
    {
     "data": {
      "text/plain": [
       "11255                      Suisse\n",
       "71519                Vevey,Suisse\n",
       "73202                      Suisse\n",
       "92403                      Suisse\n",
       "92407                      Suisse\n",
       "140912                     Suisse\n",
       "143171                     Suisse\n",
       "143829                     Suisse\n",
       "171381                     Suisse\n",
       "210945                     Suisse\n",
       "211979                     Suisse\n",
       "212034             Suisse,Dorenaz\n",
       "212662                     Suisse\n",
       "212894                     Suisse\n",
       "213270                     Suisse\n",
       "213273                     Suisse\n",
       "221179                     Suisse\n",
       "221251                     Suisse\n",
       "223776                     Suisse\n",
       "227011                     Suisse\n",
       "228141    Suisse,Italie,Allemagne\n",
       "230304                     Suisse\n",
       "230514                     Suisse\n",
       "230528                     Suisse\n",
       "230530                     Suisse\n",
       "230537                     Suisse\n",
       "230544                     Suisse\n",
       "230557                     Suisse\n",
       "230597                     Suisse\n",
       "230678                Vaud,Suisse\n",
       "                   ...           \n",
       "621673              France,Suisse\n",
       "621674              France,Suisse\n",
       "621676              France,Suisse\n",
       "621677              France,Suisse\n",
       "621678              France,Suisse\n",
       "621679              France,Suisse\n",
       "621680              France,Suisse\n",
       "621682              France,Suisse\n",
       "621683              France,Suisse\n",
       "621684              France,Suisse\n",
       "621685              France,Suisse\n",
       "621686              France,Suisse\n",
       "621687              france,Suisse\n",
       "621688              France,Suisse\n",
       "621689              France,Suisse\n",
       "621690              France,Suisse\n",
       "621691              France,Suisse\n",
       "621692              France,Suisse\n",
       "621693              Suisse,France\n",
       "621694              France,Suisse\n",
       "621695              France,Suisse\n",
       "621696              France,Suisse\n",
       "621697              France,Suisse\n",
       "621698              France,Suisse\n",
       "621699              France,Suisse\n",
       "621700              France,Suisse\n",
       "621701              France,Suisse\n",
       "621702              France,Suisse\n",
       "621927                     Suisse\n",
       "621999      CH-4242 Laufon,Suisse\n",
       "Name: origins, Length: 552, dtype: object"
      ]
     },
     "execution_count": 105,
     "metadata": {},
     "output_type": "execute_result"
    }
   ],
   "source": [
    "a = selected_data['origins'].dropna(how='all') #TODO chercher en lowercase pour trouver aussi avec minuscules\n",
    "a[a.str.contains('Suisse')]"
   ]
  },
  {
   "cell_type": "code",
   "execution_count": 103,
   "metadata": {},
   "outputs": [
    {
     "data": {
      "text/plain": [
       "254                                                  France\n",
       "272                                                  France\n",
       "313                                                  France\n",
       "362                                                  France\n",
       "416                                                  France\n",
       "597                                                  France\n",
       "799                                                  France\n",
       "1009                                                 France\n",
       "1208                                                 France\n",
       "11747                                    Fougerolles,France\n",
       "14473                                                France\n",
       "21855                                        Ardèche,France\n",
       "21859                                        Ardèche,France\n",
       "21870                                        Ardèche,France\n",
       "21888                                                France\n",
       "38256                                                France\n",
       "44789                                                France\n",
       "61298                                                France\n",
       "61305                                                France\n",
       "64050                                                France\n",
       "71215                                                France\n",
       "72240                                                France\n",
       "73289                                                France\n",
       "73872                                                France\n",
       "78225                                 Cergy-Pontoise,France\n",
       "83644                                                France\n",
       "86073                                                France\n",
       "94959                                                France\n",
       "97264                                                France\n",
       "109949                                               France\n",
       "                                ...                        \n",
       "678557                                               France\n",
       "679660                           fr:Crème fraîche de France\n",
       "679662                           fr:Crème fraîche de France\n",
       "679989                                               France\n",
       "681446                                               France\n",
       "681488                                               France\n",
       "681489                                               France\n",
       "681490                                               France\n",
       "683398                                               France\n",
       "684437                                               France\n",
       "684472                                               France\n",
       "684491                                               France\n",
       "684551                                               France\n",
       "684594                                               France\n",
       "684642                                               France\n",
       "684648                                               France\n",
       "684664                          Algida Roma,Unilever France\n",
       "684813                                               France\n",
       "685086                                       France,Espagne\n",
       "687475                                               France\n",
       "689324                                               France\n",
       "693004    12250 Roquefort-sur-Soulzon,Aveyron,Midi-Pyrén...\n",
       "693589                               Mondelez France S.A.S.\n",
       "694279                                               France\n",
       "696575                                               France\n",
       "696714                                               France\n",
       "697306                                               France\n",
       "698336                                               France\n",
       "698380                                      France,Camargue\n",
       "698406                        Saint-Jans-Cappel,Nord,France\n",
       "Name: origins, Length: 16303, dtype: object"
      ]
     },
     "execution_count": 103,
     "metadata": {},
     "output_type": "execute_result"
    }
   ],
   "source": [
    "#DEMO de comment on peut chercher les pays d'origine qu'on veut\n",
    "a = selected_data['origins'].dropna(how='all') #TODO chercher en lowercase pour trouver aussi avec minuscules\n",
    "a[a.str.contains('France')]"
   ]
  },
  {
   "cell_type": "markdown",
   "metadata": {},
   "source": [
    "We are now facing another problem, all the tags are not normalized and a lot of them are even invalid (\"mer\", postal code, or in other languages). "
   ]
  },
  {
   "cell_type": "markdown",
   "metadata": {},
   "source": [
    "## GDP and Life Expectancy"
   ]
  },
  {
   "cell_type": "markdown",
   "metadata": {},
   "source": [
    "We found the GDP per country (in USD) on the World Bank website"
   ]
  },
  {
   "cell_type": "code",
   "execution_count": 7,
   "metadata": {},
   "outputs": [],
   "source": [
    "gdp = spark.read.option(\"header\", \"true\").csv(data_folder + 'GDP.csv').select('Country Name', 'Country Code', '2016').withColumnRenamed('Country Name', 'countries_en')"
   ]
  },
  {
   "cell_type": "code",
   "execution_count": 8,
   "metadata": {},
   "outputs": [
    {
     "name": "stdout",
     "output_type": "stream",
     "text": [
      "+--------------------+------------+----------------+\n",
      "|        countries_en|Country Code|            2016|\n",
      "+--------------------+------------+----------------+\n",
      "|               Aruba|         ABW|            null|\n",
      "|         Afghanistan|         AFG|19469022207.6852|\n",
      "|              Angola|         AGO|95337203468.1156|\n",
      "|             Albania|         ALB|11883682170.8236|\n",
      "|             Andorra|         AND|2877311946.90265|\n",
      "|          Arab World|         ARB|2500164034395.78|\n",
      "|United Arab Emirates|         ARE|357045064669.843|\n",
      "|           Argentina|         ARG| 554860945013.62|\n",
      "|             Armenia|         ARM| 10546135160.031|\n",
      "|      American Samoa|         ASM|       658000000|\n",
      "| Antigua and Barbuda|         ATG| 1460144703.7037|\n",
      "|           Australia|         AUS|1208039015868.39|\n",
      "|             Austria|         AUT|390799991147.468|\n",
      "|          Azerbaijan|         AZE|37867518957.1975|\n",
      "|             Burundi|         BDI| 3007029030.4001|\n",
      "|             Belgium|         BEL|467545548764.571|\n",
      "|               Benin|         BEN|8573159696.61128|\n",
      "|        Burkina Faso|         BFA|11448781714.3131|\n",
      "|          Bangladesh|         BGD|221415162445.648|\n",
      "|            Bulgaria|         BGR|53240893665.1584|\n",
      "+--------------------+------------+----------------+\n",
      "only showing top 20 rows\n",
      "\n"
     ]
    }
   ],
   "source": [
    "gdp.show()"
   ]
  },
  {
   "cell_type": "markdown",
   "metadata": {},
   "source": [
    "Same goes for the life expectancy:"
   ]
  },
  {
   "cell_type": "code",
   "execution_count": 9,
   "metadata": {},
   "outputs": [],
   "source": [
    "le = spark.read.option(\"header\", \"true\").csv(data_folder + 'LE.csv').select('Country Name', 'Country Code', '2016').withColumnRenamed('Country Name', 'countries_en')"
   ]
  },
  {
   "cell_type": "code",
   "execution_count": 10,
   "metadata": {},
   "outputs": [
    {
     "data": {
      "text/plain": [
       "[('countries_en', 'string'), ('Country Code', 'string'), ('2016', 'string')]"
      ]
     },
     "execution_count": 10,
     "metadata": {},
     "output_type": "execute_result"
    }
   ],
   "source": [
    "le.dtypes"
   ]
  },
  {
   "cell_type": "code",
   "execution_count": 11,
   "metadata": {},
   "outputs": [
    {
     "name": "stdout",
     "output_type": "stream",
     "text": [
      "+--------------------+------------+---------------+\n",
      "|        countries_en|Country Code|           2016|\n",
      "+--------------------+------------+---------------+\n",
      "|               Aruba|         ABW|         75.867|\n",
      "|         Afghanistan|         AFG|         63.673|\n",
      "|              Angola|         AGO|         61.547|\n",
      "|             Albania|         ALB|         78.345|\n",
      "|             Andorra|         AND|           null|\n",
      "|          Arab World|         ARB|71.198456370659|\n",
      "|United Arab Emirates|         ARE|         77.256|\n",
      "|           Argentina|         ARG|         76.577|\n",
      "|             Armenia|         ARM|         74.618|\n",
      "|      American Samoa|         ASM|           null|\n",
      "+--------------------+------------+---------------+\n",
      "only showing top 10 rows\n",
      "\n"
     ]
    }
   ],
   "source": [
    "le.show(10)"
   ]
  },
  {
   "cell_type": "markdown",
   "metadata": {},
   "source": [
    "# Cleaning the data"
   ]
  },
  {
   "cell_type": "markdown",
   "metadata": {},
   "source": [
    "## Open Food Facts dataset"
   ]
  },
  {
   "cell_type": "markdown",
   "metadata": {},
   "source": [
    "## Countries"
   ]
  },
  {
   "cell_type": "code",
   "execution_count": 12,
   "metadata": {},
   "outputs": [],
   "source": [
    "data_countries = data.filter(data.countries_en != \"\")"
   ]
  },
  {
   "cell_type": "code",
   "execution_count": 13,
   "metadata": {},
   "outputs": [],
   "source": [
    "col_split = F.split(data_countries['countries_en'], ',')"
   ]
  },
  {
   "cell_type": "code",
   "execution_count": 14,
   "metadata": {},
   "outputs": [],
   "source": [
    "data_countries = data_countries.withColumn('countries_en', F.explode(col_split))"
   ]
  },
  {
   "cell_type": "code",
   "execution_count": 15,
   "metadata": {},
   "outputs": [
    {
     "name": "stdout",
     "output_type": "stream",
     "text": [
      "+--------------------+\n",
      "|        countries_en|\n",
      "+--------------------+\n",
      "|       Côte d'Ivoire|\n",
      "|                Chad|\n",
      "|            Anguilla|\n",
      "|              Russia|\n",
      "|            Paraguay|\n",
      "|Virgin Islands of...|\n",
      "|               World|\n",
      "|               Yemen|\n",
      "|British Indian Oc...|\n",
      "|             Senegal|\n",
      "|              Sweden|\n",
      "|              Guyana|\n",
      "|         Philippines|\n",
      "|            Djibouti|\n",
      "|           Singapore|\n",
      "|            Malaysia|\n",
      "|fr:republica-moldova|\n",
      "|        ch:allemagne|\n",
      "|                Fiji|\n",
      "|              Turkey|\n",
      "|           fr:nantes|\n",
      "|Nutrition facts c...|\n",
      "|              Malawi|\n",
      "|                Iraq|\n",
      "|           fr:tahiti|\n",
      "|             Germany|\n",
      "|                  En|\n",
      "|            Cambodia|\n",
      "|     To be completed|\n",
      "|         Afghanistan|\n",
      "|            de:grece|\n",
      "|              Jordan|\n",
      "|              Rwanda|\n",
      "|            Maldives|\n",
      "|    Photos validated|\n",
      "|          ch:schweiz|\n",
      "|              France|\n",
      "|            de:japon|\n",
      "|              Greece|\n",
      "|     Photos uploaded|\n",
      "|Packaging to be c...|\n",
      "|            Complete|\n",
      "|              Kosovo|\n",
      "|        it:allemagne|\n",
      "|Ingredients compl...|\n",
      "| Packaging completed|\n",
      "|           Sri Lanka|\n",
      "|          Montserrat|\n",
      "|              Taiwan|\n",
      "|            Dominica|\n",
      "|                Togo|\n",
      "|             Algeria|\n",
      "|   Equatorial Guinea|\n",
      "|         Other-japon|\n",
      "|            Slovakia|\n",
      "|               Macau|\n",
      "|           Argentina|\n",
      "|             Belgium|\n",
      "|Photos to be uplo...|\n",
      "|              Angola|\n",
      "|               Qatar|\n",
      "|             Ecuador|\n",
      "|             Albania|\n",
      "|          Madagascar|\n",
      "|             Finland|\n",
      "|           Allemagne|\n",
      "|       New Caledonia|\n",
      "|            Other-日本|\n",
      "|Ingredients to be...|\n",
      "|           Nicaragua|\n",
      "|             Myanmar|\n",
      "|          fr:ungaria|\n",
      "|               Ghana|\n",
      "|                Peru|\n",
      "|        Sierra Leone|\n",
      "|               Benin|\n",
      "|       United States|\n",
      "|               China|\n",
      "|               India|\n",
      "|             Belarus|\n",
      "|              Kuwait|\n",
      "|               Malta|\n",
      "|         Timor-Leste|\n",
      "|Quantity to be co...|\n",
      "|             Somalia|\n",
      "|               Chile|\n",
      "|         Puerto Rico|\n",
      "|       it:frankreich|\n",
      "|          Tajikistan|\n",
      "|          Martinique|\n",
      "|        Soviet Union|\n",
      "|         Isle of Man|\n",
      "|             Croatia|\n",
      "|        Other-العراق|\n",
      "|             Burundi|\n",
      "|             Nigeria|\n",
      "|             Andorra|\n",
      "|             Bolivia|\n",
      "|Palestinian terri...|\n",
      "|               Gabon|\n",
      "|               Italy|\n",
      "|            Suriname|\n",
      "|             Réunion|\n",
      "|           Lithuania|\n",
      "|              Norway|\n",
      "|               Spain|\n",
      "|Saint Pierre and ...|\n",
      "|                Cuba|\n",
      "|          Mauritania|\n",
      "|      ch:deutschland|\n",
      "|          Guadeloupe|\n",
      "|          fr:schweiz|\n",
      "|         de:belgique|\n",
      "|           ch:suisse|\n",
      "|               Niger|\n",
      "|             Denmark|\n",
      "|Central African R...|\n",
      "|            Barbados|\n",
      "|          Bangladesh|\n",
      "|           de:serbie|\n",
      "|                Iran|\n",
      "|             Curaçao|\n",
      "|United-states-of-...|\n",
      "|          it:espagne|\n",
      "|             Ireland|\n",
      "|           sq:kosovo|\n",
      "|       Liechtenstein|\n",
      "|            Thailand|\n",
      "|                Laos|\n",
      "|           Swaziland|\n",
      "|Democratic Republ...|\n",
      "|             Morocco|\n",
      "|              Monaco|\n",
      "|              Panama|\n",
      "|          Cape Verde|\n",
      "|           Hong Kong|\n",
      "|      European Union|\n",
      "|           Venezuela|\n",
      "|             Ukraine|\n",
      "|              Israel|\n",
      "|             Iceland|\n",
      "|Saint Kitts and N...|\n",
      "|                Oman|\n",
      "|    French Polynesia|\n",
      "|         South Korea|\n",
      "|  Quantity completed|\n",
      "|              Cyprus|\n",
      "|           Gibraltar|\n",
      "|Packaging-code-co...|\n",
      "|             Uruguay|\n",
      "|      fr:deutschland|\n",
      "|              Mexico|\n",
      "|               Aruba|\n",
      "|    fr:quebec-canada|\n",
      "|             Estonia|\n",
      "|             Georgia|\n",
      "|          Montenegro|\n",
      "|           Indonesia|\n",
      "|         The Bahamas|\n",
      "|           Guatemala|\n",
      "|            Mongolia|\n",
      "|Republic of Maced...|\n",
      "|Republic of the C...|\n",
      "|               Libya|\n",
      "|          Azerbaijan|\n",
      "|        Sint Maarten|\n",
      "|             Armenia|\n",
      "|             Tunisia|\n",
      "|            Honduras|\n",
      "|               Syria|\n",
      "| Trinidad and Tobago|\n",
      "|        Saudi Arabia|\n",
      "|   Wallis and Futuna|\n",
      "|       French Guiana|\n",
      "|             Mayotte|\n",
      "|             Namibia|\n",
      "|         Switzerland|\n",
      "|            Ethiopia|\n",
      "|             Jamaica|\n",
      "|              Latvia|\n",
      "|       To be checked|\n",
      "|United Arab Emirates|\n",
      "|Characteristics c...|\n",
      "|              Brunei|\n",
      "|    Republika Srpska|\n",
      "|         Saint Lucia|\n",
      "|        Saint Martin|\n",
      "|          La-reunion|\n",
      "|              Guinea|\n",
      "|              Canada|\n",
      "|          Seychelles|\n",
      "|      it:deutschland|\n",
      "|          Kyrgyzstan|\n",
      "|          Uzbekistan|\n",
      "|      Czech Republic|\n",
      "|Expiration date c...|\n",
      "|          Mozambique|\n",
      "|        Cook Islands|\n",
      "|              Brazil|\n",
      "|          ch:mexique|\n",
      "|               Kenya|\n",
      "|             Lebanon|\n",
      "|Product name comp...|\n",
      "|            Valencia|\n",
      "|            Slovenia|\n",
      "| Antigua and Barbuda|\n",
      "|  Dominican Republic|\n",
      "|Characteristics t...|\n",
      "|               Japan|\n",
      "|            Tanzania|\n",
      "|           de:russie|\n",
      "|                Asia|\n",
      "|       fr:frankreich|\n",
      "|          Luxembourg|\n",
      "|         New Zealand|\n",
      "|    Brands completed|\n",
      "|          de:espagne|\n",
      "|Bosnia and Herzeg...|\n",
      "|               Haiti|\n",
      "|              Poland|\n",
      "|            Portugal|\n",
      "|Photos to be vali...|\n",
      "|           Australia|\n",
      "|            Cameroon|\n",
      "|             Romania|\n",
      "|            Bulgaria|\n",
      "|             Austria|\n",
      "|               Nepal|\n",
      "|        de:allemagne|\n",
      "|Expiration date t...|\n",
      "|               Egypt|\n",
      "|          Costa Rica|\n",
      "|         El Salvador|\n",
      "|          Kazakhstan|\n",
      "|Categories completed|\n",
      "|              Serbia|\n",
      "|        South Africa|\n",
      "|        Burkina Faso|\n",
      "|             Bahrain|\n",
      "|            Colombia|\n",
      "|Nutrition facts t...|\n",
      "|             Hungary|\n",
      "|            Pakistan|\n",
      "|             Vanuatu|\n",
      "|           Mauritius|\n",
      "|      United Kingdom|\n",
      "|             Moldova|\n",
      "|               fr:en|\n",
      "|          fr:dom-tom|\n",
      "|             Vietnam|\n",
      "|         Netherlands|\n",
      "|                Mali|\n",
      "|       Åland Islands|\n",
      "|           fr:quebec|\n",
      "+--------------------+\n",
      "\n"
     ]
    }
   ],
   "source": [
    "data_countries.select('countries_en').distinct().show(500)"
   ]
  },
  {
   "cell_type": "markdown",
   "metadata": {},
   "source": [
    "Some of the entires are still invalid because they are written in another languages, we decided to not count them. Since we already have a list of countries, we are going to use them to keep only the valid entries."
   ]
  },
  {
   "cell_type": "code",
   "execution_count": 16,
   "metadata": {},
   "outputs": [],
   "source": [
    "joined = data_countries.join(gdp, 'countries_en', how='inner').drop('Country Code', '2016')"
   ]
  },
  {
   "cell_type": "code",
   "execution_count": 26,
   "metadata": {},
   "outputs": [
    {
     "data": {
      "text/plain": [
       "45504"
      ]
     },
     "execution_count": 26,
     "metadata": {},
     "output_type": "execute_result"
    }
   ],
   "source": [
    "joined.filter(data.origins != \"\").count()"
   ]
  },
  {
   "cell_type": "code",
   "execution_count": 31,
   "metadata": {},
   "outputs": [],
   "source": [
    "origins = joined.join(gdp, joined.origins.isin(gdp.countries_en), how='inner')"
   ]
  },
  {
   "cell_type": "code",
   "execution_count": 33,
   "metadata": {},
   "outputs": [
    {
     "data": {
      "text/plain": [
       "15203"
      ]
     },
     "execution_count": 33,
     "metadata": {},
     "output_type": "execute_result"
    }
   ],
   "source": [
    "origins.count()"
   ]
  },
  {
   "cell_type": "code",
   "execution_count": 34,
   "metadata": {},
   "outputs": [],
   "source": [
    "or_pd = origins.toPandas()"
   ]
  },
  {
   "cell_type": "code",
   "execution_count": null,
   "metadata": {},
   "outputs": [],
   "source": [
    "or_pd.origins.hist()"
   ]
  },
  {
   "cell_type": "code",
   "execution_count": null,
   "metadata": {},
   "outputs": [],
   "source": []
  }
 ],
 "metadata": {
  "kernelspec": {
   "display_name": "Python 3",
   "language": "python",
   "name": "python3"
  },
  "language_info": {
   "codemirror_mode": {
    "name": "ipython",
    "version": 3
   },
   "file_extension": ".py",
   "mimetype": "text/x-python",
   "name": "python",
   "nbconvert_exporter": "python",
   "pygments_lexer": "ipython3",
   "version": "3.7.0"
  }
 },
 "nbformat": 4,
 "nbformat_minor": 2
}
